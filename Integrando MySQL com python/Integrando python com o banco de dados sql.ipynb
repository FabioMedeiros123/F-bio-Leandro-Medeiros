{
 "cells": [
  {
   "cell_type": "code",
   "execution_count": 42,
   "id": "34e01d19",
   "metadata": {},
   "outputs": [],
   "source": [
    "import mysql.connector"
   ]
  },
  {
   "cell_type": "code",
   "execution_count": 45,
   "id": "9bf203a6",
   "metadata": {},
   "outputs": [],
   "source": [
    "#Criando conexão\n",
    "con = mysql.connector.connect(host='localhost',database='pythonsql',user='root',password='123567')"
   ]
  },
  {
   "cell_type": "code",
   "execution_count": 46,
   "id": "f805be2c",
   "metadata": {},
   "outputs": [
    {
     "name": "stdout",
     "output_type": "stream",
     "text": [
      "Executado com sucesso\n"
     ]
    }
   ],
   "source": [
    "# Verifica se está conectado ao banco de dados\n",
    "if con.is_connected():\n",
    "    # Cria um cursor para executar os comandos\n",
    "    cursor = con.cursor()\n",
    "    # Comando sql para adicionar novas informações\n",
    "    comando = \"\"\"INSERT INTO VENDAS(id_venda,cliente,produto,data_venda,preco,quantidade)\n",
    "VALUES\n",
    "    (3,'Victor Gabriel','Moto','2022/04/17',5000,1);\"\"\"\n",
    "    # Cursor executando o comando sql feito anteriormente\n",
    "    cursor.execute(comando)\n",
    "    # Comando importante para escrever em banco de dados. Não é necessário em leituras.\n",
    "    con.commit()\n",
    "else:\n",
    "    print(\"Não conectou\")\n",
    "    \n",
    "if con.is_connected():\n",
    "    cursor.close()\n",
    "    con.close()\n",
    "    \n",
    "print(\"Executado com sucesso\")"
   ]
  },
  {
   "cell_type": "markdown",
   "id": "e19fe30e",
   "metadata": {},
   "source": [
    "### Observação\n",
    "Ao executar, é interessante executar tudo, pois primeiro deve ser feita a conexão com o banco de dados para depois rodar o código sql. Porém, em aplicações com várias células no código, pode-se primeiro rodar a segunda célula (onde é feita a conexão) para depois rodar a terceira célula."
   ]
  },
  {
   "cell_type": "code",
   "execution_count": null,
   "id": "95bc6bc5",
   "metadata": {},
   "outputs": [],
   "source": []
  }
 ],
 "metadata": {
  "kernelspec": {
   "display_name": "Python 3 (ipykernel)",
   "language": "python",
   "name": "python3"
  },
  "language_info": {
   "codemirror_mode": {
    "name": "ipython",
    "version": 3
   },
   "file_extension": ".py",
   "mimetype": "text/x-python",
   "name": "python",
   "nbconvert_exporter": "python",
   "pygments_lexer": "ipython3",
   "version": "3.9.7"
  }
 },
 "nbformat": 4,
 "nbformat_minor": 5
}
