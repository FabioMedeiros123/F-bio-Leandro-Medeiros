{
 "cells": [
  {
   "cell_type": "markdown",
   "id": "95ffc84b",
   "metadata": {},
   "source": [
    "## Importando os dados"
   ]
  },
  {
   "cell_type": "code",
   "execution_count": 1,
   "id": "de214345",
   "metadata": {},
   "outputs": [],
   "source": [
    "# Importando o pandas\n",
    "import pandas as pd"
   ]
  },
  {
   "cell_type": "code",
   "execution_count": 2,
   "id": "52d6b296",
   "metadata": {},
   "outputs": [],
   "source": [
    "# Lendo a base de dados\n",
    "base = pd.read_csv('covid_19_clean_complete.csv')"
   ]
  },
  {
   "cell_type": "code",
   "execution_count": 3,
   "id": "7903a14a",
   "metadata": {},
   "outputs": [
    {
     "data": {
      "text/html": [
       "<div>\n",
       "<style scoped>\n",
       "    .dataframe tbody tr th:only-of-type {\n",
       "        vertical-align: middle;\n",
       "    }\n",
       "\n",
       "    .dataframe tbody tr th {\n",
       "        vertical-align: top;\n",
       "    }\n",
       "\n",
       "    .dataframe thead th {\n",
       "        text-align: right;\n",
       "    }\n",
       "</style>\n",
       "<table border=\"1\" class=\"dataframe\">\n",
       "  <thead>\n",
       "    <tr style=\"text-align: right;\">\n",
       "      <th></th>\n",
       "      <th>Province/State</th>\n",
       "      <th>Country/Region</th>\n",
       "      <th>Lat</th>\n",
       "      <th>Long</th>\n",
       "      <th>Date</th>\n",
       "      <th>Confirmed</th>\n",
       "      <th>Deaths</th>\n",
       "      <th>Recovered</th>\n",
       "      <th>Active</th>\n",
       "      <th>WHO Region</th>\n",
       "    </tr>\n",
       "  </thead>\n",
       "  <tbody>\n",
       "    <tr>\n",
       "      <th>0</th>\n",
       "      <td>NaN</td>\n",
       "      <td>Afghanistan</td>\n",
       "      <td>33.939110</td>\n",
       "      <td>67.709953</td>\n",
       "      <td>2020-01-22</td>\n",
       "      <td>0</td>\n",
       "      <td>0</td>\n",
       "      <td>0</td>\n",
       "      <td>0</td>\n",
       "      <td>Eastern Mediterranean</td>\n",
       "    </tr>\n",
       "    <tr>\n",
       "      <th>1</th>\n",
       "      <td>NaN</td>\n",
       "      <td>Albania</td>\n",
       "      <td>41.153300</td>\n",
       "      <td>20.168300</td>\n",
       "      <td>2020-01-22</td>\n",
       "      <td>0</td>\n",
       "      <td>0</td>\n",
       "      <td>0</td>\n",
       "      <td>0</td>\n",
       "      <td>Europe</td>\n",
       "    </tr>\n",
       "    <tr>\n",
       "      <th>2</th>\n",
       "      <td>NaN</td>\n",
       "      <td>Algeria</td>\n",
       "      <td>28.033900</td>\n",
       "      <td>1.659600</td>\n",
       "      <td>2020-01-22</td>\n",
       "      <td>0</td>\n",
       "      <td>0</td>\n",
       "      <td>0</td>\n",
       "      <td>0</td>\n",
       "      <td>Africa</td>\n",
       "    </tr>\n",
       "    <tr>\n",
       "      <th>3</th>\n",
       "      <td>NaN</td>\n",
       "      <td>Andorra</td>\n",
       "      <td>42.506300</td>\n",
       "      <td>1.521800</td>\n",
       "      <td>2020-01-22</td>\n",
       "      <td>0</td>\n",
       "      <td>0</td>\n",
       "      <td>0</td>\n",
       "      <td>0</td>\n",
       "      <td>Europe</td>\n",
       "    </tr>\n",
       "    <tr>\n",
       "      <th>4</th>\n",
       "      <td>NaN</td>\n",
       "      <td>Angola</td>\n",
       "      <td>-11.202700</td>\n",
       "      <td>17.873900</td>\n",
       "      <td>2020-01-22</td>\n",
       "      <td>0</td>\n",
       "      <td>0</td>\n",
       "      <td>0</td>\n",
       "      <td>0</td>\n",
       "      <td>Africa</td>\n",
       "    </tr>\n",
       "    <tr>\n",
       "      <th>...</th>\n",
       "      <td>...</td>\n",
       "      <td>...</td>\n",
       "      <td>...</td>\n",
       "      <td>...</td>\n",
       "      <td>...</td>\n",
       "      <td>...</td>\n",
       "      <td>...</td>\n",
       "      <td>...</td>\n",
       "      <td>...</td>\n",
       "      <td>...</td>\n",
       "    </tr>\n",
       "    <tr>\n",
       "      <th>49063</th>\n",
       "      <td>NaN</td>\n",
       "      <td>Sao Tome and Principe</td>\n",
       "      <td>0.186400</td>\n",
       "      <td>6.613100</td>\n",
       "      <td>2020-07-27</td>\n",
       "      <td>865</td>\n",
       "      <td>14</td>\n",
       "      <td>734</td>\n",
       "      <td>117</td>\n",
       "      <td>Africa</td>\n",
       "    </tr>\n",
       "    <tr>\n",
       "      <th>49064</th>\n",
       "      <td>NaN</td>\n",
       "      <td>Yemen</td>\n",
       "      <td>15.552727</td>\n",
       "      <td>48.516388</td>\n",
       "      <td>2020-07-27</td>\n",
       "      <td>1691</td>\n",
       "      <td>483</td>\n",
       "      <td>833</td>\n",
       "      <td>375</td>\n",
       "      <td>Eastern Mediterranean</td>\n",
       "    </tr>\n",
       "    <tr>\n",
       "      <th>49065</th>\n",
       "      <td>NaN</td>\n",
       "      <td>Comoros</td>\n",
       "      <td>-11.645500</td>\n",
       "      <td>43.333300</td>\n",
       "      <td>2020-07-27</td>\n",
       "      <td>354</td>\n",
       "      <td>7</td>\n",
       "      <td>328</td>\n",
       "      <td>19</td>\n",
       "      <td>Africa</td>\n",
       "    </tr>\n",
       "    <tr>\n",
       "      <th>49066</th>\n",
       "      <td>NaN</td>\n",
       "      <td>Tajikistan</td>\n",
       "      <td>38.861000</td>\n",
       "      <td>71.276100</td>\n",
       "      <td>2020-07-27</td>\n",
       "      <td>7235</td>\n",
       "      <td>60</td>\n",
       "      <td>6028</td>\n",
       "      <td>1147</td>\n",
       "      <td>Europe</td>\n",
       "    </tr>\n",
       "    <tr>\n",
       "      <th>49067</th>\n",
       "      <td>NaN</td>\n",
       "      <td>Lesotho</td>\n",
       "      <td>-29.610000</td>\n",
       "      <td>28.233600</td>\n",
       "      <td>2020-07-27</td>\n",
       "      <td>505</td>\n",
       "      <td>12</td>\n",
       "      <td>128</td>\n",
       "      <td>365</td>\n",
       "      <td>Africa</td>\n",
       "    </tr>\n",
       "  </tbody>\n",
       "</table>\n",
       "<p>49068 rows × 10 columns</p>\n",
       "</div>"
      ],
      "text/plain": [
       "      Province/State         Country/Region        Lat       Long        Date  \\\n",
       "0                NaN            Afghanistan  33.939110  67.709953  2020-01-22   \n",
       "1                NaN                Albania  41.153300  20.168300  2020-01-22   \n",
       "2                NaN                Algeria  28.033900   1.659600  2020-01-22   \n",
       "3                NaN                Andorra  42.506300   1.521800  2020-01-22   \n",
       "4                NaN                 Angola -11.202700  17.873900  2020-01-22   \n",
       "...              ...                    ...        ...        ...         ...   \n",
       "49063            NaN  Sao Tome and Principe   0.186400   6.613100  2020-07-27   \n",
       "49064            NaN                  Yemen  15.552727  48.516388  2020-07-27   \n",
       "49065            NaN                Comoros -11.645500  43.333300  2020-07-27   \n",
       "49066            NaN             Tajikistan  38.861000  71.276100  2020-07-27   \n",
       "49067            NaN                Lesotho -29.610000  28.233600  2020-07-27   \n",
       "\n",
       "       Confirmed  Deaths  Recovered  Active             WHO Region  \n",
       "0              0       0          0       0  Eastern Mediterranean  \n",
       "1              0       0          0       0                 Europe  \n",
       "2              0       0          0       0                 Africa  \n",
       "3              0       0          0       0                 Europe  \n",
       "4              0       0          0       0                 Africa  \n",
       "...          ...     ...        ...     ...                    ...  \n",
       "49063        865      14        734     117                 Africa  \n",
       "49064       1691     483        833     375  Eastern Mediterranean  \n",
       "49065        354       7        328      19                 Africa  \n",
       "49066       7235      60       6028    1147                 Europe  \n",
       "49067        505      12        128     365                 Africa  \n",
       "\n",
       "[49068 rows x 10 columns]"
      ]
     },
     "metadata": {},
     "output_type": "display_data"
    }
   ],
   "source": [
    "# Olhando as 5 primeiras linhas e as 5 últimas do conjuntos de dados\n",
    "display(base)"
   ]
  },
  {
   "cell_type": "markdown",
   "id": "c56cc8e7",
   "metadata": {},
   "source": [
    "## Analisando os dados"
   ]
  },
  {
   "cell_type": "markdown",
   "id": "f99fa485",
   "metadata": {},
   "source": [
    "#### Algumas colunas possuem muitos dados ausentes"
   ]
  },
  {
   "cell_type": "code",
   "execution_count": 4,
   "id": "68320d21",
   "metadata": {},
   "outputs": [
    {
     "name": "stdout",
     "output_type": "stream",
     "text": [
      "<class 'pandas.core.frame.DataFrame'>\n",
      "RangeIndex: 49068 entries, 0 to 49067\n",
      "Data columns (total 10 columns):\n",
      " #   Column          Non-Null Count  Dtype  \n",
      "---  ------          --------------  -----  \n",
      " 0   Province/State  14664 non-null  object \n",
      " 1   Country/Region  49068 non-null  object \n",
      " 2   Lat             49068 non-null  float64\n",
      " 3   Long            49068 non-null  float64\n",
      " 4   Date            49068 non-null  object \n",
      " 5   Confirmed       49068 non-null  int64  \n",
      " 6   Deaths          49068 non-null  int64  \n",
      " 7   Recovered       49068 non-null  int64  \n",
      " 8   Active          49068 non-null  int64  \n",
      " 9   WHO Region      49068 non-null  object \n",
      "dtypes: float64(2), int64(4), object(4)\n",
      "memory usage: 3.7+ MB\n"
     ]
    }
   ],
   "source": [
    "# Mostrando informações da base de dados\n",
    "base.info()"
   ]
  },
  {
   "cell_type": "markdown",
   "id": "880bf803",
   "metadata": {},
   "source": [
    "#### Province/State possui muitos valores ausentes, então é interessante retirá-la para a análise"
   ]
  },
  {
   "cell_type": "code",
   "execution_count": 5,
   "id": "1d25d465",
   "metadata": {},
   "outputs": [
    {
     "data": {
      "text/plain": [
       "Province/State    34404\n",
       "Country/Region        0\n",
       "Lat                   0\n",
       "Long                  0\n",
       "Date                  0\n",
       "Confirmed             0\n",
       "Deaths                0\n",
       "Recovered             0\n",
       "Active                0\n",
       "WHO Region            0\n",
       "dtype: int64"
      ]
     },
     "execution_count": 5,
     "metadata": {},
     "output_type": "execute_result"
    }
   ],
   "source": [
    "# Número de valores ausentes em cada coluna\n",
    "base.isnull().sum()"
   ]
  },
  {
   "cell_type": "code",
   "execution_count": 6,
   "id": "257bef14",
   "metadata": {},
   "outputs": [
    {
     "name": "stdout",
     "output_type": "stream",
     "text": [
      "<class 'pandas.core.frame.DataFrame'>\n",
      "RangeIndex: 49068 entries, 0 to 49067\n",
      "Data columns (total 9 columns):\n",
      " #   Column          Non-Null Count  Dtype  \n",
      "---  ------          --------------  -----  \n",
      " 0   Country/Region  49068 non-null  object \n",
      " 1   Lat             49068 non-null  float64\n",
      " 2   Long            49068 non-null  float64\n",
      " 3   Date            49068 non-null  object \n",
      " 4   Confirmed       49068 non-null  int64  \n",
      " 5   Deaths          49068 non-null  int64  \n",
      " 6   Recovered       49068 non-null  int64  \n",
      " 7   Active          49068 non-null  int64  \n",
      " 8   WHO Region      49068 non-null  object \n",
      "dtypes: float64(2), int64(4), object(3)\n",
      "memory usage: 3.4+ MB\n"
     ]
    }
   ],
   "source": [
    "# Apagando a coluna province/state\n",
    "base2 = base.drop('Province/State', axis=1)\n",
    "base2.info()"
   ]
  },
  {
   "cell_type": "code",
   "execution_count": 7,
   "id": "0e8dd495",
   "metadata": {},
   "outputs": [
    {
     "data": {
      "text/plain": [
       "Country/Region    0\n",
       "Lat               0\n",
       "Long              0\n",
       "Date              0\n",
       "Confirmed         0\n",
       "Deaths            0\n",
       "Recovered         0\n",
       "Active            0\n",
       "WHO Region        0\n",
       "dtype: int64"
      ]
     },
     "execution_count": 7,
     "metadata": {},
     "output_type": "execute_result"
    }
   ],
   "source": [
    "# Verificando se ela foi retirada\n",
    "base2.isnull().sum()"
   ]
  },
  {
   "cell_type": "code",
   "execution_count": 8,
   "id": "cd1e984b",
   "metadata": {},
   "outputs": [
    {
     "data": {
      "text/plain": [
       "(49068, 9)"
      ]
     },
     "execution_count": 8,
     "metadata": {},
     "output_type": "execute_result"
    }
   ],
   "source": [
    "# Número de linhas e colunas do dataframa (linhas, colunas)\n",
    "base2.shape"
   ]
  },
  {
   "cell_type": "markdown",
   "id": "193aec45",
   "metadata": {},
   "source": [
    "#### Verificando algumas informações estatísticas"
   ]
  },
  {
   "cell_type": "code",
   "execution_count": 9,
   "id": "1244f413",
   "metadata": {
    "scrolled": true
   },
   "outputs": [
    {
     "data": {
      "text/html": [
       "<div>\n",
       "<style scoped>\n",
       "    .dataframe tbody tr th:only-of-type {\n",
       "        vertical-align: middle;\n",
       "    }\n",
       "\n",
       "    .dataframe tbody tr th {\n",
       "        vertical-align: top;\n",
       "    }\n",
       "\n",
       "    .dataframe thead th {\n",
       "        text-align: right;\n",
       "    }\n",
       "</style>\n",
       "<table border=\"1\" class=\"dataframe\">\n",
       "  <thead>\n",
       "    <tr style=\"text-align: right;\">\n",
       "      <th></th>\n",
       "      <th>Lat</th>\n",
       "      <th>Long</th>\n",
       "      <th>Confirmed</th>\n",
       "      <th>Deaths</th>\n",
       "      <th>Recovered</th>\n",
       "      <th>Active</th>\n",
       "    </tr>\n",
       "  </thead>\n",
       "  <tbody>\n",
       "    <tr>\n",
       "      <th>count</th>\n",
       "      <td>49068.000000</td>\n",
       "      <td>49068.000000</td>\n",
       "      <td>4.906800e+04</td>\n",
       "      <td>49068.000000</td>\n",
       "      <td>4.906800e+04</td>\n",
       "      <td>4.906800e+04</td>\n",
       "    </tr>\n",
       "    <tr>\n",
       "      <th>mean</th>\n",
       "      <td>21.433730</td>\n",
       "      <td>23.528236</td>\n",
       "      <td>1.688490e+04</td>\n",
       "      <td>884.179160</td>\n",
       "      <td>7.915713e+03</td>\n",
       "      <td>8.085012e+03</td>\n",
       "    </tr>\n",
       "    <tr>\n",
       "      <th>std</th>\n",
       "      <td>24.950320</td>\n",
       "      <td>70.442740</td>\n",
       "      <td>1.273002e+05</td>\n",
       "      <td>6313.584411</td>\n",
       "      <td>5.480092e+04</td>\n",
       "      <td>7.625890e+04</td>\n",
       "    </tr>\n",
       "    <tr>\n",
       "      <th>min</th>\n",
       "      <td>-51.796300</td>\n",
       "      <td>-135.000000</td>\n",
       "      <td>0.000000e+00</td>\n",
       "      <td>0.000000</td>\n",
       "      <td>0.000000e+00</td>\n",
       "      <td>-1.400000e+01</td>\n",
       "    </tr>\n",
       "    <tr>\n",
       "      <th>25%</th>\n",
       "      <td>7.873054</td>\n",
       "      <td>-15.310100</td>\n",
       "      <td>4.000000e+00</td>\n",
       "      <td>0.000000</td>\n",
       "      <td>0.000000e+00</td>\n",
       "      <td>0.000000e+00</td>\n",
       "    </tr>\n",
       "    <tr>\n",
       "      <th>50%</th>\n",
       "      <td>23.634500</td>\n",
       "      <td>21.745300</td>\n",
       "      <td>1.680000e+02</td>\n",
       "      <td>2.000000</td>\n",
       "      <td>2.900000e+01</td>\n",
       "      <td>2.600000e+01</td>\n",
       "    </tr>\n",
       "    <tr>\n",
       "      <th>75%</th>\n",
       "      <td>41.204380</td>\n",
       "      <td>80.771797</td>\n",
       "      <td>1.518250e+03</td>\n",
       "      <td>30.000000</td>\n",
       "      <td>6.660000e+02</td>\n",
       "      <td>6.060000e+02</td>\n",
       "    </tr>\n",
       "    <tr>\n",
       "      <th>max</th>\n",
       "      <td>71.706900</td>\n",
       "      <td>178.065000</td>\n",
       "      <td>4.290259e+06</td>\n",
       "      <td>148011.000000</td>\n",
       "      <td>1.846641e+06</td>\n",
       "      <td>2.816444e+06</td>\n",
       "    </tr>\n",
       "  </tbody>\n",
       "</table>\n",
       "</div>"
      ],
      "text/plain": [
       "                Lat          Long     Confirmed         Deaths     Recovered  \\\n",
       "count  49068.000000  49068.000000  4.906800e+04   49068.000000  4.906800e+04   \n",
       "mean      21.433730     23.528236  1.688490e+04     884.179160  7.915713e+03   \n",
       "std       24.950320     70.442740  1.273002e+05    6313.584411  5.480092e+04   \n",
       "min      -51.796300   -135.000000  0.000000e+00       0.000000  0.000000e+00   \n",
       "25%        7.873054    -15.310100  4.000000e+00       0.000000  0.000000e+00   \n",
       "50%       23.634500     21.745300  1.680000e+02       2.000000  2.900000e+01   \n",
       "75%       41.204380     80.771797  1.518250e+03      30.000000  6.660000e+02   \n",
       "max       71.706900    178.065000  4.290259e+06  148011.000000  1.846641e+06   \n",
       "\n",
       "             Active  \n",
       "count  4.906800e+04  \n",
       "mean   8.085012e+03  \n",
       "std    7.625890e+04  \n",
       "min   -1.400000e+01  \n",
       "25%    0.000000e+00  \n",
       "50%    2.600000e+01  \n",
       "75%    6.060000e+02  \n",
       "max    2.816444e+06  "
      ]
     },
     "execution_count": 9,
     "metadata": {},
     "output_type": "execute_result"
    }
   ],
   "source": [
    "# Informações estatísticas para entender melhor os dados\n",
    "base2.describe()"
   ]
  },
  {
   "cell_type": "markdown",
   "id": "7b0d2118",
   "metadata": {},
   "source": [
    "#### Os dados coletados vão de 22/jan/2020 até 27/jul/2020"
   ]
  },
  {
   "cell_type": "code",
   "execution_count": 10,
   "id": "3e21ee8b",
   "metadata": {},
   "outputs": [
    {
     "data": {
      "text/plain": [
       "'2020-01-22'"
      ]
     },
     "execution_count": 10,
     "metadata": {},
     "output_type": "execute_result"
    }
   ],
   "source": [
    "# data em que a coleta começou\n",
    "base2['Date'].unique()[0]"
   ]
  },
  {
   "cell_type": "code",
   "execution_count": 11,
   "id": "eebc4c22",
   "metadata": {
    "scrolled": true
   },
   "outputs": [
    {
     "data": {
      "text/plain": [
       "'2020-07-27'"
      ]
     },
     "execution_count": 11,
     "metadata": {},
     "output_type": "execute_result"
    }
   ],
   "source": [
    "# data em que a coleta terminou\n",
    "base2['Date'].unique()[-1]"
   ]
  },
  {
   "cell_type": "markdown",
   "id": "47f610ef",
   "metadata": {},
   "source": [
    "## Analisando os meses de Janeiro e Fevereiro"
   ]
  },
  {
   "cell_type": "code",
   "execution_count": 12,
   "id": "576108c3",
   "metadata": {
    "scrolled": true
   },
   "outputs": [
    {
     "data": {
      "text/plain": [
       "array(['2020-01-22', '2020-01-23', '2020-01-24', '2020-01-25',\n",
       "       '2020-01-26', '2020-01-27', '2020-01-28', '2020-01-29',\n",
       "       '2020-01-30', '2020-01-31', '2020-02-01', '2020-02-02',\n",
       "       '2020-02-03', '2020-02-04', '2020-02-05', '2020-02-06',\n",
       "       '2020-02-07', '2020-02-08', '2020-02-09', '2020-02-10',\n",
       "       '2020-02-11', '2020-02-12', '2020-02-13', '2020-02-14',\n",
       "       '2020-02-15', '2020-02-16', '2020-02-17', '2020-02-18',\n",
       "       '2020-02-19', '2020-02-20', '2020-02-21', '2020-02-22',\n",
       "       '2020-02-23', '2020-02-24', '2020-02-25', '2020-02-26',\n",
       "       '2020-02-27', '2020-02-28', '2020-02-29'], dtype='<U10')"
      ]
     },
     "execution_count": 12,
     "metadata": {},
     "output_type": "execute_result"
    }
   ],
   "source": [
    "# Extraindo as datas dos meses de janeiro e fevereiro\n",
    "import numpy as np\n",
    "\n",
    "mes_janeiro_fevereiro = []\n",
    "for data2 in base2['Date']:\n",
    "    if ('2020-01' in data2) or ('2020-02' in data2):\n",
    "        mes_janeiro_fevereiro.append(data2)\n",
    "        \n",
    "mes_janeiro_fevereiro = np.array(mes_janeiro_fevereiro)\n",
    "mes_janeiro_fevereiro = np.unique(mes_janeiro_fevereiro)\n",
    "mes_janeiro_fevereiro"
   ]
  },
  {
   "cell_type": "markdown",
   "id": "96451978",
   "metadata": {},
   "source": [
    "#### Taxa de mortes igual a 280,64% aproximadamente nos meses de janeiro e fevereiro"
   ]
  },
  {
   "cell_type": "markdown",
   "id": "667a3c3e",
   "metadata": {},
   "source": [
    "$$ Tx = \\frac{m}{c} \\times 100 $$"
   ]
  },
  {
   "cell_type": "markdown",
   "id": "728212e2",
   "metadata": {},
   "source": [
    "- Tx é a taxa de mortalidade nos meses de janeiro e fevereiro\n",
    "- m é o número de mortes nos meses de janeiro e feveireiro\n",
    "- c é o número de casos confirmados nos meses de janeiro e fevereiro"
   ]
  },
  {
   "cell_type": "code",
   "execution_count": 13,
   "id": "4873b45f",
   "metadata": {},
   "outputs": [
    {
     "data": {
      "text/plain": [
       "2.806393293422743"
      ]
     },
     "execution_count": 13,
     "metadata": {},
     "output_type": "execute_result"
    }
   ],
   "source": [
    "tx_morte = ((base2.query('Date in @mes_janeiro_fevereiro')['Deaths'].mean())/(base2.query('Date in @mes_janeiro_fevereiro')['Confirmed'].mean())) * 100\n",
    "tx_morte"
   ]
  },
  {
   "cell_type": "markdown",
   "id": "10bba7cd",
   "metadata": {},
   "source": [
    "## Analisando os meses de Junho e Julho"
   ]
  },
  {
   "cell_type": "code",
   "execution_count": 14,
   "id": "8b76e9cd",
   "metadata": {},
   "outputs": [
    {
     "data": {
      "text/plain": [
       "array(['2020-06-01', '2020-06-02', '2020-06-03', '2020-06-04',\n",
       "       '2020-06-05', '2020-06-06', '2020-06-07', '2020-06-08',\n",
       "       '2020-06-09', '2020-06-10', '2020-06-11', '2020-06-12',\n",
       "       '2020-06-13', '2020-06-14', '2020-06-15', '2020-06-16',\n",
       "       '2020-06-17', '2020-06-18', '2020-06-19', '2020-06-20',\n",
       "       '2020-06-21', '2020-06-22', '2020-06-23', '2020-06-24',\n",
       "       '2020-06-25', '2020-06-26', '2020-06-27', '2020-06-28',\n",
       "       '2020-06-29', '2020-06-30', '2020-07-01', '2020-07-02',\n",
       "       '2020-07-03', '2020-07-04', '2020-07-05', '2020-07-06',\n",
       "       '2020-07-07', '2020-07-08', '2020-07-09', '2020-07-10',\n",
       "       '2020-07-11', '2020-07-12', '2020-07-13', '2020-07-14',\n",
       "       '2020-07-15', '2020-07-16', '2020-07-17', '2020-07-18',\n",
       "       '2020-07-19', '2020-07-20', '2020-07-21', '2020-07-22',\n",
       "       '2020-07-23', '2020-07-24', '2020-07-25', '2020-07-26',\n",
       "       '2020-07-27'], dtype='<U10')"
      ]
     },
     "execution_count": 14,
     "metadata": {},
     "output_type": "execute_result"
    }
   ],
   "source": [
    "# Extraindo as datas dos meses de junho e julho\n",
    "mes_junho_julho = []\n",
    "for data2 in base2['Date']:\n",
    "    if ('2020-06') in data2 or ('2020-07' in data2):\n",
    "        mes_junho_julho.append(data2)\n",
    "        \n",
    "mes_junho_julho = np.array(mes_junho_julho)\n",
    "mes_junho_julho = np.unique(mes_junho_julho)\n",
    "mes_junho_julho"
   ]
  },
  {
   "cell_type": "markdown",
   "id": "fa09f524",
   "metadata": {},
   "source": [
    "#### Taxa de mortes igual a 476,16% aproximadamente nos meses de junho e julho"
   ]
  },
  {
   "cell_type": "markdown",
   "id": "ebbb46e6",
   "metadata": {},
   "source": [
    "$$ Tx = \\frac{m}{c} \\times 100 $$"
   ]
  },
  {
   "cell_type": "markdown",
   "id": "1594b3f4",
   "metadata": {},
   "source": [
    "- Tx é a taxa de mortalidade nos meses de junho e julho\n",
    "- m é o número de mortes nos meses de junho e julho\n",
    "- c é o número de casos confirmados nos meses de junho e julho"
   ]
  },
  {
   "cell_type": "code",
   "execution_count": 15,
   "id": "be18ec57",
   "metadata": {},
   "outputs": [
    {
     "data": {
      "text/plain": [
       "4.761681951117472"
      ]
     },
     "execution_count": 15,
     "metadata": {},
     "output_type": "execute_result"
    }
   ],
   "source": [
    "tx_morte = ((base2.query('Date in @mes_junho_julho')['Deaths'].mean())/(base2.query('Date in @mes_junho_julho')['Confirmed'].mean())) * 100\n",
    "tx_morte"
   ]
  },
  {
   "cell_type": "markdown",
   "id": "616166b9",
   "metadata": {},
   "source": [
    "A mediana e a média estão muito distantes uma da outra. Analisando os dados de Janeiro, fevereiro, junho e julho, pode-se notar que ouve um aumento considerável de mortes. Além disso, o número que indica a taxa, por ser maior que um, demonstra que o número de mortes foi maior do que a capacidade de diagnosticar a doença."
   ]
  },
  {
   "cell_type": "markdown",
   "id": "d8348cf4",
   "metadata": {},
   "source": [
    "#### Todos os países tiveram covid em algum momento durante o período analisado"
   ]
  },
  {
   "cell_type": "code",
   "execution_count": 16,
   "id": "1fbf7fff",
   "metadata": {},
   "outputs": [
    {
     "data": {
      "text/plain": [
       "Index(['China', 'Canada', 'France', 'United Kingdom', 'Australia',\n",
       "       'Netherlands', 'Denmark', 'Afghanistan', 'Saudi Arabia', 'Romania',\n",
       "       ...\n",
       "       'India', 'Guatemala', 'Guinea', 'Guyana', 'Haiti', 'Holy See',\n",
       "       'Honduras', 'Hungary', 'Iceland', 'Lesotho'],\n",
       "      dtype='object', length=187)"
      ]
     },
     "execution_count": 16,
     "metadata": {},
     "output_type": "execute_result"
    }
   ],
   "source": [
    "# Número de países registrados no dataframe = 187\n",
    "base2['Country/Region'].value_counts().index"
   ]
  },
  {
   "cell_type": "code",
   "execution_count": 17,
   "id": "1beaf300",
   "metadata": {},
   "outputs": [
    {
     "data": {
      "text/plain": [
       "False    187\n",
       "Name: Confirmed, dtype: int64"
      ]
     },
     "execution_count": 17,
     "metadata": {},
     "output_type": "execute_result"
    }
   ],
   "source": [
    "# Países em que o número de casos confirmados não é igual a zero\n",
    "(base2.groupby('Country/Region')['Confirmed'].sum() == 0).value_counts()"
   ]
  },
  {
   "cell_type": "markdown",
   "id": "6fe649e6",
   "metadata": {},
   "source": [
    "False 187, indica que a condição imposta (casos confirmados igual a zero) é falsa nos 187 países. Logo, todos os países tiveram Covid em algum momento."
   ]
  },
  {
   "cell_type": "markdown",
   "id": "f1aa5d56",
   "metadata": {},
   "source": [
    "#### 66 países tiveram mais casos de Covid do que a média"
   ]
  },
  {
   "cell_type": "code",
   "execution_count": 18,
   "id": "cc7d9c70",
   "metadata": {},
   "outputs": [
    {
     "data": {
      "text/plain": [
       "Country/Region\n",
       "Afghanistan               1650014\n",
       "Algeria                    447494\n",
       "Argentina                 4090997\n",
       "Armenia                   1212837\n",
       "Austria                    948533\n",
       "                          ...    \n",
       "US                      224298618\n",
       "Ukraine                   2878432\n",
       "United Arab Emirates      3357726\n",
       "United Kingdom           26501831\n",
       "Uzbekistan                 153447\n",
       "Name: Confirmed, Length: 66, dtype: int64"
      ]
     },
     "execution_count": 18,
     "metadata": {},
     "output_type": "execute_result"
    }
   ],
   "source": [
    "# Casos confirmados por país\n",
    "paises_maior_media = base2.loc[base2['Confirmed'] > base2['Confirmed'].mean(),['Country/Region','Confirmed']].groupby('Country/Region')['Confirmed'].sum()\n",
    "paises_maior_media"
   ]
  },
  {
   "cell_type": "code",
   "execution_count": 19,
   "id": "0d97f2a0",
   "metadata": {},
   "outputs": [],
   "source": [
    "paises_maior_media = paises_maior_media.index\n",
    "paises_maior_media = np.array(paises_maior_media)"
   ]
  },
  {
   "cell_type": "code",
   "execution_count": 20,
   "id": "2d97398b",
   "metadata": {},
   "outputs": [
    {
     "data": {
      "text/plain": [
       "array(['Afghanistan', 'Algeria', 'Argentina', 'Armenia', 'Austria',\n",
       "       'Azerbaijan', 'Bahrain', 'Bangladesh', 'Belarus', 'Belgium',\n",
       "       'Bolivia', 'Brazil', 'Cameroon', 'Canada', 'Chile', 'China',\n",
       "       'Colombia', 'Dominican Republic', 'Ecuador', 'Egypt', 'France',\n",
       "       'Germany', 'Ghana', 'Guatemala', 'Honduras', 'India', 'Indonesia',\n",
       "       'Iran', 'Iraq', 'Ireland', 'Israel', 'Italy', 'Japan',\n",
       "       'Kazakhstan', 'Kenya', 'Kuwait', 'Kyrgyzstan', 'Mexico', 'Moldova',\n",
       "       'Morocco', 'Nepal', 'Netherlands', 'Nigeria', 'Oman', 'Pakistan',\n",
       "       'Panama', 'Peru', 'Philippines', 'Poland', 'Portugal', 'Qatar',\n",
       "       'Romania', 'Russia', 'Saudi Arabia', 'Serbia', 'Singapore',\n",
       "       'South Africa', 'Spain', 'Sweden', 'Switzerland', 'Turkey', 'US',\n",
       "       'Ukraine', 'United Arab Emirates', 'United Kingdom', 'Uzbekistan'],\n",
       "      dtype=object)"
      ]
     },
     "execution_count": 20,
     "metadata": {},
     "output_type": "execute_result"
    }
   ],
   "source": [
    "# Lista com os países que possuem mais casos do que a média\n",
    "paises_maior_media"
   ]
  },
  {
   "cell_type": "markdown",
   "id": "c8e5840c",
   "metadata": {},
   "source": [
    "#### Os continentes desses 66 países são mostrados abaixo"
   ]
  },
  {
   "cell_type": "code",
   "execution_count": 21,
   "id": "b54a6943",
   "metadata": {
    "scrolled": true
   },
   "outputs": [
    {
     "data": {
      "text/plain": [
       "WHO Region\n",
       "Americas                 399941715\n",
       "Europe                   239457789\n",
       "Eastern Mediterranean     72183389\n",
       "South-East Asia           54378725\n",
       "Western Pacific           22559580\n",
       "Africa                    16538602\n",
       "Name: Confirmed, dtype: int64"
      ]
     },
     "execution_count": 21,
     "metadata": {},
     "output_type": "execute_result"
    }
   ],
   "source": [
    "continentes_maior_media = base2.query(\"`Country/Region` in @paises_maior_media\").groupby('WHO Region')['Confirmed'].sum().sort_values(ascending=False)\n",
    "continentes_maior_media"
   ]
  },
  {
   "cell_type": "markdown",
   "id": "ccecbd4c",
   "metadata": {},
   "source": [
    "#### Os 10 países com mais casos confirmados de covid"
   ]
  },
  {
   "cell_type": "code",
   "execution_count": 22,
   "id": "06bade44",
   "metadata": {},
   "outputs": [
    {
     "data": {
      "text/plain": [
       "Country/Region\n",
       "US                224345948\n",
       "Brazil             89524967\n",
       "Russia             45408411\n",
       "India              40883464\n",
       "Spain              27404045\n",
       "United Kingdom     26748587\n",
       "Italy              26745145\n",
       "France             21210926\n",
       "Germany            21059152\n",
       "Iran               19339267\n",
       "Name: Confirmed, dtype: int64"
      ]
     },
     "execution_count": 22,
     "metadata": {},
     "output_type": "execute_result"
    }
   ],
   "source": [
    "paises_mais_confirmados = base2[['Country/Region','Confirmed']].groupby(by='Country/Region')['Confirmed'].sum().sort_values(ascending=False)[0:10]\n",
    "paises_mais_confirmados"
   ]
  },
  {
   "cell_type": "code",
   "execution_count": 23,
   "id": "8acfb778",
   "metadata": {},
   "outputs": [],
   "source": [
    "def autolabel(grafico,precisao=2,unidade=''):\n",
    "    for i in grafico:\n",
    "        h = i.get_height()\n",
    "        ax.annotate('{}{}'.format(round(h,precisao),unidade), xy=(i.get_x()+i.get_width()/2,h), xytext = (0,3), textcoords = 'offset points', ha='center')"
   ]
  },
  {
   "cell_type": "code",
   "execution_count": 24,
   "id": "c3e39424",
   "metadata": {},
   "outputs": [],
   "source": [
    "colors_tab = [\n",
    "    'tab:blue',\n",
    "    'tab:orange',\n",
    "    'tab:green',\n",
    "    'tab:red',\n",
    "    'tab:purple',\n",
    "    'tab:brown',\n",
    "    'tab:pink',\n",
    "    'tab:gray',\n",
    "    'tab:olive',\n",
    "    'tab:cyan'\n",
    "]"
   ]
  },
  {
   "cell_type": "code",
   "execution_count": 25,
   "id": "e0e35749",
   "metadata": {},
   "outputs": [
    {
     "data": {
      "image/png": "[encoded data removed]",
      "text/plain": [
       "<Figure size 1000x500 with 1 Axes>"
      ]
     },
     "metadata": {},
     "output_type": "display_data"
    }
   ],
   "source": [
    "import matplotlib.pyplot as plt\n",
    "\n",
    "fig, ax = plt.subplots(figsize=(10,5))\n",
    "graph = ax.bar(paises_mais_confirmados.index, paises_mais_confirmados.values/1000000, color=colors_tab, width = 0.4)\n",
    "plt.xticks(rotation=30, ha='right')\n",
    "\n",
    "ax.set_title('Os 10 países com mais casos confirmados de covid')\n",
    "ax.set_ylabel('Casos confirmados (em milhões)')\n",
    "ax.set_ylim(0,245)\n",
    "\n",
    "autolabel(graph)\n",
    "\n",
    "plt.show()"
   ]
  },
  {
   "cell_type": "markdown",
   "id": "00927bca",
   "metadata": {},
   "source": [
    "#### Os 10 países com maior número de mortes"
   ]
  },
  {
   "cell_type": "code",
   "execution_count": 26,
   "id": "1e4370d1",
   "metadata": {},
   "outputs": [
    {
     "data": {
      "text/plain": [
       "Country/Region\n",
       "US                11011411\n",
       "United Kingdom     3997775\n",
       "Brazil             3938034\n",
       "Italy              3707717\n",
       "France             3048524\n",
       "Spain              3033030\n",
       "Mexico             1728277\n",
       "India              1111831\n",
       "Iran               1024136\n",
       "Belgium             963679\n",
       "Name: Deaths, dtype: int64"
      ]
     },
     "execution_count": 26,
     "metadata": {},
     "output_type": "execute_result"
    }
   ],
   "source": [
    "paises_mais_mortes = base2.groupby('Country/Region')['Deaths'].sum().sort_values(ascending=False)[0:10]\n",
    "paises_mais_mortes"
   ]
  },
  {
   "cell_type": "code",
   "execution_count": 27,
   "id": "9b045182",
   "metadata": {},
   "outputs": [
    {
     "data": {
      "image/png": "[encoded data removed]",
      "text/plain": [
       "<Figure size 1000x500 with 1 Axes>"
      ]
     },
     "metadata": {},
     "output_type": "display_data"
    }
   ],
   "source": [
    "fig, ax = plt.subplots(figsize=(10,5))\n",
    "graph = ax.bar(paises_mais_mortes.index, paises_mais_mortes.values/1000000, color=colors_tab, width = 0.4)\n",
    "plt.xticks(rotation=30, ha='right')\n",
    "\n",
    "ax.set_title('Os 10 países com o maior número de mortes')\n",
    "ax.set_ylabel('Número de mortes (em milhões)')\n",
    "ax.set_ylim(0,12)\n",
    "\n",
    "autolabel(graph)\n",
    "\n",
    "plt.show()"
   ]
  },
  {
   "cell_type": "markdown",
   "id": "ebb59c5b",
   "metadata": {},
   "source": [
    "Plotando as informações de **casos confirmados** e **mortes** no **mesmo gráfico**"
   ]
  },
  {
   "cell_type": "markdown",
   "id": "eed184d2",
   "metadata": {},
   "source": [
    "Alguns países que aparecem no gráfico de casos confirmados não aparecem no gráfico de mortes, logo isso tem que ser tratado"
   ]
  },
  {
   "cell_type": "code",
   "execution_count": 28,
   "id": "c0a64ced",
   "metadata": {},
   "outputs": [
    {
     "data": {
      "text/plain": [
       "array(['Belgium', 'Brazil', 'France', 'Germany', 'India', 'Iran', 'Italy',\n",
       "       'Mexico', 'Russia', 'Spain', 'US', 'United Kingdom'], dtype='<U14')"
      ]
     },
     "execution_count": 28,
     "metadata": {},
     "output_type": "execute_result"
    }
   ],
   "source": [
    "countrys1 = list(paises_mais_mortes.index) + list(paises_mais_confirmados.index)\n",
    "countrys1 = np.unique(countrys1)\n",
    "countrys1"
   ]
  },
  {
   "cell_type": "markdown",
   "id": "dca84a80",
   "metadata": {},
   "source": [
    "Fazendo uma **query** para pegar as **informações necessárias** para plotar o **próximo gráfico**"
   ]
  },
  {
   "cell_type": "code",
   "execution_count": 29,
   "id": "148803cb",
   "metadata": {},
   "outputs": [
    {
     "data": {
      "text/html": [
       "<div>\n",
       "<style scoped>\n",
       "    .dataframe tbody tr th:only-of-type {\n",
       "        vertical-align: middle;\n",
       "    }\n",
       "\n",
       "    .dataframe tbody tr th {\n",
       "        vertical-align: top;\n",
       "    }\n",
       "\n",
       "    .dataframe thead th {\n",
       "        text-align: right;\n",
       "    }\n",
       "</style>\n",
       "<table border=\"1\" class=\"dataframe\">\n",
       "  <thead>\n",
       "    <tr style=\"text-align: right;\">\n",
       "      <th></th>\n",
       "      <th>Country/Region</th>\n",
       "      <th>Confirmed</th>\n",
       "      <th>Deaths</th>\n",
       "    </tr>\n",
       "  </thead>\n",
       "  <tbody>\n",
       "    <tr>\n",
       "      <th>0</th>\n",
       "      <td>Belgium</td>\n",
       "      <td>6281116</td>\n",
       "      <td>963679</td>\n",
       "    </tr>\n",
       "    <tr>\n",
       "      <th>1</th>\n",
       "      <td>Brazil</td>\n",
       "      <td>89524967</td>\n",
       "      <td>3938034</td>\n",
       "    </tr>\n",
       "    <tr>\n",
       "      <th>2</th>\n",
       "      <td>France</td>\n",
       "      <td>21210926</td>\n",
       "      <td>3048524</td>\n",
       "    </tr>\n",
       "    <tr>\n",
       "      <th>3</th>\n",
       "      <td>Germany</td>\n",
       "      <td>21059152</td>\n",
       "      <td>871322</td>\n",
       "    </tr>\n",
       "    <tr>\n",
       "      <th>4</th>\n",
       "      <td>India</td>\n",
       "      <td>40883464</td>\n",
       "      <td>1111831</td>\n",
       "    </tr>\n",
       "    <tr>\n",
       "      <th>5</th>\n",
       "      <td>Iran</td>\n",
       "      <td>19339267</td>\n",
       "      <td>1024136</td>\n",
       "    </tr>\n",
       "    <tr>\n",
       "      <th>6</th>\n",
       "      <td>Italy</td>\n",
       "      <td>26745145</td>\n",
       "      <td>3707717</td>\n",
       "    </tr>\n",
       "    <tr>\n",
       "      <th>7</th>\n",
       "      <td>Mexico</td>\n",
       "      <td>14946202</td>\n",
       "      <td>1728277</td>\n",
       "    </tr>\n",
       "    <tr>\n",
       "      <th>8</th>\n",
       "      <td>Russia</td>\n",
       "      <td>45408411</td>\n",
       "      <td>619385</td>\n",
       "    </tr>\n",
       "    <tr>\n",
       "      <th>9</th>\n",
       "      <td>Spain</td>\n",
       "      <td>27404045</td>\n",
       "      <td>3033030</td>\n",
       "    </tr>\n",
       "    <tr>\n",
       "      <th>10</th>\n",
       "      <td>US</td>\n",
       "      <td>224345948</td>\n",
       "      <td>11011411</td>\n",
       "    </tr>\n",
       "    <tr>\n",
       "      <th>11</th>\n",
       "      <td>United Kingdom</td>\n",
       "      <td>26748587</td>\n",
       "      <td>3997775</td>\n",
       "    </tr>\n",
       "  </tbody>\n",
       "</table>\n",
       "</div>"
      ],
      "text/plain": [
       "    Country/Region  Confirmed    Deaths\n",
       "0          Belgium    6281116    963679\n",
       "1           Brazil   89524967   3938034\n",
       "2           France   21210926   3048524\n",
       "3          Germany   21059152    871322\n",
       "4            India   40883464   1111831\n",
       "5             Iran   19339267   1024136\n",
       "6            Italy   26745145   3707717\n",
       "7           Mexico   14946202   1728277\n",
       "8           Russia   45408411    619385\n",
       "9            Spain   27404045   3033030\n",
       "10              US  224345948  11011411\n",
       "11  United Kingdom   26748587   3997775"
      ]
     },
     "execution_count": 29,
     "metadata": {},
     "output_type": "execute_result"
    }
   ],
   "source": [
    "dados_paises_completo = base2.query(\"`Country/Region` in @countrys1\").groupby('Country/Region')[['Confirmed','Deaths']].sum().reset_index()\n",
    "dados_paises_completo"
   ]
  },
  {
   "cell_type": "code",
   "execution_count": 30,
   "id": "e37dea17",
   "metadata": {},
   "outputs": [
    {
     "data": {
      "image/png": "[encoded data removed]",
      "text/plain": [
       "<Figure size 1000x500 with 1 Axes>"
      ]
     },
     "metadata": {},
     "output_type": "display_data"
    }
   ],
   "source": [
    "plt.rcParams.update({'font.size':8})\n",
    "\n",
    "fig, ax = plt.subplots(figsize=(10,5))\n",
    "graph1 = ax.bar(dados_paises_completo.index - 0.2, dados_paises_completo['Confirmed']/1000000, color='tab:blue', width = 0.4, log=True, label='Casos confirmados')\n",
    "graph2 = ax.bar(dados_paises_completo.index + 0.2, dados_paises_completo['Deaths']/1000000, color='tab:red', width = 0.4, log=True, label='Mortes')\n",
    "plt.xticks(rotation=30, ha='right')\n",
    "\n",
    "ax.set_xticks(dados_paises_completo.index)\n",
    "ax.set_xticklabels(dados_paises_completo['Country/Region'])\n",
    "\n",
    "ax.set_title('Casos confirmados e número de mortes por país')\n",
    "ax.set_ylabel('Número de mortes (em milhões)')\n",
    "ax.set_yticks([])\n",
    "\n",
    "autolabel(graph1)\n",
    "autolabel(graph2)\n",
    "\n",
    "ax.legend()\n",
    "\n",
    "plt.show()"
   ]
  },
  {
   "cell_type": "markdown",
   "id": "1ec96e48",
   "metadata": {},
   "source": [
    "#### Países que mais recuperam pacientes"
   ]
  },
  {
   "cell_type": "markdown",
   "id": "31bfcc6a",
   "metadata": {},
   "source": [
    "Criando uma coluna contendo os casos recuperados por país"
   ]
  },
  {
   "cell_type": "code",
   "execution_count": 31,
   "id": "23e4cdc4",
   "metadata": {},
   "outputs": [
    {
     "data": {
      "text/html": [
       "<div>\n",
       "<style scoped>\n",
       "    .dataframe tbody tr th:only-of-type {\n",
       "        vertical-align: middle;\n",
       "    }\n",
       "\n",
       "    .dataframe tbody tr th {\n",
       "        vertical-align: top;\n",
       "    }\n",
       "\n",
       "    .dataframe thead th {\n",
       "        text-align: right;\n",
       "    }\n",
       "</style>\n",
       "<table border=\"1\" class=\"dataframe\">\n",
       "  <thead>\n",
       "    <tr style=\"text-align: right;\">\n",
       "      <th></th>\n",
       "      <th>Country/Region</th>\n",
       "      <th>Confirmed</th>\n",
       "      <th>Deaths</th>\n",
       "    </tr>\n",
       "  </thead>\n",
       "  <tbody>\n",
       "    <tr>\n",
       "      <th>0</th>\n",
       "      <td>Afghanistan</td>\n",
       "      <td>1936390</td>\n",
       "      <td>49098</td>\n",
       "    </tr>\n",
       "    <tr>\n",
       "      <th>1</th>\n",
       "      <td>Albania</td>\n",
       "      <td>196702</td>\n",
       "      <td>5708</td>\n",
       "    </tr>\n",
       "    <tr>\n",
       "      <th>2</th>\n",
       "      <td>Algeria</td>\n",
       "      <td>1179755</td>\n",
       "      <td>77972</td>\n",
       "    </tr>\n",
       "    <tr>\n",
       "      <th>3</th>\n",
       "      <td>Andorra</td>\n",
       "      <td>94404</td>\n",
       "      <td>5423</td>\n",
       "    </tr>\n",
       "    <tr>\n",
       "      <th>4</th>\n",
       "      <td>Angola</td>\n",
       "      <td>22662</td>\n",
       "      <td>1078</td>\n",
       "    </tr>\n",
       "    <tr>\n",
       "      <th>...</th>\n",
       "      <td>...</td>\n",
       "      <td>...</td>\n",
       "      <td>...</td>\n",
       "    </tr>\n",
       "    <tr>\n",
       "      <th>182</th>\n",
       "      <td>West Bank and Gaza</td>\n",
       "      <td>233461</td>\n",
       "      <td>1370</td>\n",
       "    </tr>\n",
       "    <tr>\n",
       "      <th>183</th>\n",
       "      <td>Western Sahara</td>\n",
       "      <td>901</td>\n",
       "      <td>63</td>\n",
       "    </tr>\n",
       "    <tr>\n",
       "      <th>184</th>\n",
       "      <td>Yemen</td>\n",
       "      <td>67180</td>\n",
       "      <td>17707</td>\n",
       "    </tr>\n",
       "    <tr>\n",
       "      <th>185</th>\n",
       "      <td>Zambia</td>\n",
       "      <td>129421</td>\n",
       "      <td>2643</td>\n",
       "    </tr>\n",
       "    <tr>\n",
       "      <th>186</th>\n",
       "      <td>Zimbabwe</td>\n",
       "      <td>50794</td>\n",
       "      <td>881</td>\n",
       "    </tr>\n",
       "  </tbody>\n",
       "</table>\n",
       "<p>187 rows × 3 columns</p>\n",
       "</div>"
      ],
      "text/plain": [
       "         Country/Region  Confirmed  Deaths\n",
       "0           Afghanistan    1936390   49098\n",
       "1               Albania     196702    5708\n",
       "2               Algeria    1179755   77972\n",
       "3               Andorra      94404    5423\n",
       "4                Angola      22662    1078\n",
       "..                  ...        ...     ...\n",
       "182  West Bank and Gaza     233461    1370\n",
       "183      Western Sahara        901      63\n",
       "184               Yemen      67180   17707\n",
       "185              Zambia     129421    2643\n",
       "186            Zimbabwe      50794     881\n",
       "\n",
       "[187 rows x 3 columns]"
      ]
     },
     "execution_count": 31,
     "metadata": {},
     "output_type": "execute_result"
    }
   ],
   "source": [
    "recupera_df = base2.groupby('Country/Region')[['Confirmed', 'Deaths']].sum().reset_index()\n",
    "recupera_df"
   ]
  },
  {
   "cell_type": "code",
   "execution_count": 32,
   "id": "256971f4",
   "metadata": {},
   "outputs": [
    {
     "data": {
      "text/plain": [
       "count    1.870000e+02\n",
       "mean     4.430527e+06\n",
       "std      1.859815e+07\n",
       "min      9.010000e+02\n",
       "25%      6.185650e+04\n",
       "50%      2.992180e+05\n",
       "75%      2.102668e+06\n",
       "max      2.243459e+08\n",
       "Name: Confirmed, dtype: float64"
      ]
     },
     "execution_count": 32,
     "metadata": {},
     "output_type": "execute_result"
    }
   ],
   "source": [
    "# Observando os dados estatísticos do dataframe criado\n",
    "recupera_df['Confirmed'].describe()"
   ]
  },
  {
   "cell_type": "markdown",
   "id": "249f19bb",
   "metadata": {},
   "source": [
    "Será feita uma análise de **quais países mais recuperam pacientes**. O menor valor de casos confirmados é 901, e o país que tem esse número não terá tanto trabalho quanto os países que possuem casos equivalentes a mediana, por exemplo, que é igual a 299218. Logo, **vamos considerar** apenas os países que possuem uma **quantidade de casos confirmados maior ou igual ao primeiro quartil**."
   ]
  },
  {
   "cell_type": "code",
   "execution_count": 33,
   "id": "9e308622",
   "metadata": {},
   "outputs": [
    {
     "data": {
      "text/plain": [
       "140"
      ]
     },
     "execution_count": 33,
     "metadata": {},
     "output_type": "execute_result"
    }
   ],
   "source": [
    "# Quantidade de países igual ou acima do 1º quartil\n",
    "(recupera_df['Confirmed'] >= recupera_df['Confirmed'].describe()['25%']).sum()"
   ]
  },
  {
   "cell_type": "code",
   "execution_count": 34,
   "id": "ad4c34b5",
   "metadata": {},
   "outputs": [
    {
     "data": {
      "text/html": [
       "<div>\n",
       "<style scoped>\n",
       "    .dataframe tbody tr th:only-of-type {\n",
       "        vertical-align: middle;\n",
       "    }\n",
       "\n",
       "    .dataframe tbody tr th {\n",
       "        vertical-align: top;\n",
       "    }\n",
       "\n",
       "    .dataframe thead th {\n",
       "        text-align: right;\n",
       "    }\n",
       "</style>\n",
       "<table border=\"1\" class=\"dataframe\">\n",
       "  <thead>\n",
       "    <tr style=\"text-align: right;\">\n",
       "      <th></th>\n",
       "      <th>Country/Region</th>\n",
       "      <th>Confirmed</th>\n",
       "      <th>Deaths</th>\n",
       "    </tr>\n",
       "  </thead>\n",
       "  <tbody>\n",
       "    <tr>\n",
       "      <th>0</th>\n",
       "      <td>Afghanistan</td>\n",
       "      <td>1936390</td>\n",
       "      <td>49098</td>\n",
       "    </tr>\n",
       "    <tr>\n",
       "      <th>1</th>\n",
       "      <td>Albania</td>\n",
       "      <td>196702</td>\n",
       "      <td>5708</td>\n",
       "    </tr>\n",
       "    <tr>\n",
       "      <th>2</th>\n",
       "      <td>Algeria</td>\n",
       "      <td>1179755</td>\n",
       "      <td>77972</td>\n",
       "    </tr>\n",
       "    <tr>\n",
       "      <th>3</th>\n",
       "      <td>Andorra</td>\n",
       "      <td>94404</td>\n",
       "      <td>5423</td>\n",
       "    </tr>\n",
       "    <tr>\n",
       "      <th>6</th>\n",
       "      <td>Argentina</td>\n",
       "      <td>4450658</td>\n",
       "      <td>97749</td>\n",
       "    </tr>\n",
       "    <tr>\n",
       "      <th>...</th>\n",
       "      <td>...</td>\n",
       "      <td>...</td>\n",
       "      <td>...</td>\n",
       "    </tr>\n",
       "    <tr>\n",
       "      <th>179</th>\n",
       "      <td>Uzbekistan</td>\n",
       "      <td>678008</td>\n",
       "      <td>2938</td>\n",
       "    </tr>\n",
       "    <tr>\n",
       "      <th>180</th>\n",
       "      <td>Venezuela</td>\n",
       "      <td>412231</td>\n",
       "      <td>4101</td>\n",
       "    </tr>\n",
       "    <tr>\n",
       "      <th>182</th>\n",
       "      <td>West Bank and Gaza</td>\n",
       "      <td>233461</td>\n",
       "      <td>1370</td>\n",
       "    </tr>\n",
       "    <tr>\n",
       "      <th>184</th>\n",
       "      <td>Yemen</td>\n",
       "      <td>67180</td>\n",
       "      <td>17707</td>\n",
       "    </tr>\n",
       "    <tr>\n",
       "      <th>185</th>\n",
       "      <td>Zambia</td>\n",
       "      <td>129421</td>\n",
       "      <td>2643</td>\n",
       "    </tr>\n",
       "  </tbody>\n",
       "</table>\n",
       "<p>140 rows × 3 columns</p>\n",
       "</div>"
      ],
      "text/plain": [
       "         Country/Region  Confirmed  Deaths\n",
       "0           Afghanistan    1936390   49098\n",
       "1               Albania     196702    5708\n",
       "2               Algeria    1179755   77972\n",
       "3               Andorra      94404    5423\n",
       "6             Argentina    4450658   97749\n",
       "..                  ...        ...     ...\n",
       "179          Uzbekistan     678008    2938\n",
       "180           Venezuela     412231    4101\n",
       "182  West Bank and Gaza     233461    1370\n",
       "184               Yemen      67180   17707\n",
       "185              Zambia     129421    2643\n",
       "\n",
       "[140 rows x 3 columns]"
      ]
     },
     "execution_count": 34,
     "metadata": {},
     "output_type": "execute_result"
    }
   ],
   "source": [
    "# Salvando o dataframe com os países com casos acima do primeiro quartil\n",
    "recupera_df = recupera_df[recupera_df['Confirmed'] >= recupera_df['Confirmed'].describe()['25%']]\n",
    "recupera_df"
   ]
  },
  {
   "cell_type": "code",
   "execution_count": 35,
   "id": "1dcb839e",
   "metadata": {},
   "outputs": [
    {
     "data": {
      "text/html": [
       "<div>\n",
       "<style scoped>\n",
       "    .dataframe tbody tr th:only-of-type {\n",
       "        vertical-align: middle;\n",
       "    }\n",
       "\n",
       "    .dataframe tbody tr th {\n",
       "        vertical-align: top;\n",
       "    }\n",
       "\n",
       "    .dataframe thead th {\n",
       "        text-align: right;\n",
       "    }\n",
       "</style>\n",
       "<table border=\"1\" class=\"dataframe\">\n",
       "  <thead>\n",
       "    <tr style=\"text-align: right;\">\n",
       "      <th></th>\n",
       "      <th>Country/Region</th>\n",
       "      <th>Confirmed</th>\n",
       "      <th>Deaths</th>\n",
       "      <th>Recovered (%)</th>\n",
       "    </tr>\n",
       "  </thead>\n",
       "  <tbody>\n",
       "    <tr>\n",
       "      <th>0</th>\n",
       "      <td>Afghanistan</td>\n",
       "      <td>1936390</td>\n",
       "      <td>49098</td>\n",
       "      <td>97.464457</td>\n",
       "    </tr>\n",
       "    <tr>\n",
       "      <th>1</th>\n",
       "      <td>Albania</td>\n",
       "      <td>196702</td>\n",
       "      <td>5708</td>\n",
       "      <td>97.098148</td>\n",
       "    </tr>\n",
       "    <tr>\n",
       "      <th>2</th>\n",
       "      <td>Algeria</td>\n",
       "      <td>1179755</td>\n",
       "      <td>77972</td>\n",
       "      <td>93.390831</td>\n",
       "    </tr>\n",
       "    <tr>\n",
       "      <th>3</th>\n",
       "      <td>Andorra</td>\n",
       "      <td>94404</td>\n",
       "      <td>5423</td>\n",
       "      <td>94.255540</td>\n",
       "    </tr>\n",
       "    <tr>\n",
       "      <th>6</th>\n",
       "      <td>Argentina</td>\n",
       "      <td>4450658</td>\n",
       "      <td>97749</td>\n",
       "      <td>97.803718</td>\n",
       "    </tr>\n",
       "  </tbody>\n",
       "</table>\n",
       "</div>"
      ],
      "text/plain": [
       "  Country/Region  Confirmed  Deaths  Recovered (%)\n",
       "0    Afghanistan    1936390   49098      97.464457\n",
       "1        Albania     196702    5708      97.098148\n",
       "2        Algeria    1179755   77972      93.390831\n",
       "3        Andorra      94404    5423      94.255540\n",
       "6      Argentina    4450658   97749      97.803718"
      ]
     },
     "execution_count": 35,
     "metadata": {},
     "output_type": "execute_result"
    }
   ],
   "source": [
    "import warnings\n",
    "\n",
    "warnings.filterwarnings('ignore')\n",
    "\n",
    "recupera_df['Recovered (%)'] = ((recupera_df['Confirmed'] - recupera_df['Deaths'])/recupera_df['Confirmed'])*100\n",
    "recupera_df.head()"
   ]
  },
  {
   "cell_type": "markdown",
   "id": "03f0c2ac",
   "metadata": {},
   "source": [
    "Selecionando os 10 países que mais recuperam pacientes"
   ]
  },
  {
   "cell_type": "code",
   "execution_count": 36,
   "id": "099bd551",
   "metadata": {},
   "outputs": [
    {
     "data": {
      "text/html": [
       "<div>\n",
       "<style scoped>\n",
       "    .dataframe tbody tr th:only-of-type {\n",
       "        vertical-align: middle;\n",
       "    }\n",
       "\n",
       "    .dataframe tbody tr th {\n",
       "        vertical-align: top;\n",
       "    }\n",
       "\n",
       "    .dataframe thead th {\n",
       "        text-align: right;\n",
       "    }\n",
       "</style>\n",
       "<table border=\"1\" class=\"dataframe\">\n",
       "  <thead>\n",
       "    <tr style=\"text-align: right;\">\n",
       "      <th></th>\n",
       "      <th>Country/Region</th>\n",
       "      <th>Confirmed</th>\n",
       "      <th>Recovered (%)</th>\n",
       "    </tr>\n",
       "  </thead>\n",
       "  <tbody>\n",
       "    <tr>\n",
       "      <th>0</th>\n",
       "      <td>Singapore</td>\n",
       "      <td>3502472</td>\n",
       "      <td>99.930306</td>\n",
       "    </tr>\n",
       "    <tr>\n",
       "      <th>1</th>\n",
       "      <td>Qatar</td>\n",
       "      <td>6377607</td>\n",
       "      <td>99.888312</td>\n",
       "    </tr>\n",
       "    <tr>\n",
       "      <th>2</th>\n",
       "      <td>Rwanda</td>\n",
       "      <td>71242</td>\n",
       "      <td>99.762780</td>\n",
       "    </tr>\n",
       "    <tr>\n",
       "      <th>3</th>\n",
       "      <td>Nepal</td>\n",
       "      <td>682623</td>\n",
       "      <td>99.756820</td>\n",
       "    </tr>\n",
       "    <tr>\n",
       "      <th>4</th>\n",
       "      <td>Bahrain</td>\n",
       "      <td>1755206</td>\n",
       "      <td>99.708581</td>\n",
       "    </tr>\n",
       "    <tr>\n",
       "      <th>5</th>\n",
       "      <td>Maldives</td>\n",
       "      <td>173602</td>\n",
       "      <td>99.593899</td>\n",
       "    </tr>\n",
       "    <tr>\n",
       "      <th>6</th>\n",
       "      <td>Uzbekistan</td>\n",
       "      <td>678008</td>\n",
       "      <td>99.566672</td>\n",
       "    </tr>\n",
       "    <tr>\n",
       "      <th>7</th>\n",
       "      <td>Oman</td>\n",
       "      <td>2559773</td>\n",
       "      <td>99.538865</td>\n",
       "    </tr>\n",
       "    <tr>\n",
       "      <th>8</th>\n",
       "      <td>Iceland</td>\n",
       "      <td>221241</td>\n",
       "      <td>99.484273</td>\n",
       "    </tr>\n",
       "    <tr>\n",
       "      <th>9</th>\n",
       "      <td>Ghana</td>\n",
       "      <td>1246644</td>\n",
       "      <td>99.445872</td>\n",
       "    </tr>\n",
       "  </tbody>\n",
       "</table>\n",
       "</div>"
      ],
      "text/plain": [
       "  Country/Region  Confirmed  Recovered (%)\n",
       "0      Singapore    3502472      99.930306\n",
       "1          Qatar    6377607      99.888312\n",
       "2         Rwanda      71242      99.762780\n",
       "3          Nepal     682623      99.756820\n",
       "4        Bahrain    1755206      99.708581\n",
       "5       Maldives     173602      99.593899\n",
       "6     Uzbekistan     678008      99.566672\n",
       "7           Oman    2559773      99.538865\n",
       "8        Iceland     221241      99.484273\n",
       "9          Ghana    1246644      99.445872"
      ]
     },
     "execution_count": 36,
     "metadata": {},
     "output_type": "execute_result"
    }
   ],
   "source": [
    "mais_recuperados = recupera_df[['Country/Region','Confirmed','Recovered (%)']].sort_values(by='Recovered (%)',ascending=False)[0:10].reset_index().drop('index',axis=1)\n",
    "mais_recuperados"
   ]
  },
  {
   "cell_type": "markdown",
   "id": "a0d04b8e",
   "metadata": {},
   "source": [
    "Plotando o **gráfico** desses **10 países**"
   ]
  },
  {
   "cell_type": "code",
   "execution_count": 37,
   "id": "ea1138c1",
   "metadata": {},
   "outputs": [
    {
     "data": {
      "image/png": "[encoded data removed]",
      "text/plain": [
       "<Figure size 1000x500 with 1 Axes>"
      ]
     },
     "metadata": {},
     "output_type": "display_data"
    }
   ],
   "source": [
    "plt.rcParams.update({'font.size':9})\n",
    "\n",
    "fig, ax = plt.subplots(figsize=(10,5))\n",
    "graph1 = ax.bar(mais_recuperados.index, mais_recuperados['Recovered (%)'], color=colors_tab, width = 0.4)\n",
    "\n",
    "plt.xticks(rotation=30, ha='right')\n",
    "\n",
    "ax.set_xticks(mais_recuperados.index)\n",
    "ax.set_xticklabels(mais_recuperados['Country/Region'])\n",
    "\n",
    "ax.set_title('Países que mais recuperam pacientes')\n",
    "\n",
    "autolabel(graph1,3,'%')\n",
    "ax.set_ylabel('Percentual de casos recuperados por país')\n",
    "ax.set_ylim(0,108)\n",
    "\n",
    "plt.show()"
   ]
  },
  {
   "cell_type": "markdown",
   "id": "c8c34f63",
   "metadata": {},
   "source": [
    "#### Casos confirmados por continente"
   ]
  },
  {
   "cell_type": "code",
   "execution_count": 38,
   "id": "3137f129",
   "metadata": {},
   "outputs": [
    {
     "data": {
      "text/plain": [
       "WHO Region\n",
       "Americas                 402261194\n",
       "Europe                   248879793\n",
       "Eastern Mediterranean     74082892\n",
       "South-East Asia           55118365\n",
       "Western Pacific           26374411\n",
       "Africa                    21791827\n",
       "Name: Confirmed, dtype: int64"
      ]
     },
     "execution_count": 38,
     "metadata": {},
     "output_type": "execute_result"
    }
   ],
   "source": [
    "casos_por_continente = base2.groupby('WHO Region')['Confirmed'].sum().sort_values(ascending=False)\n",
    "casos_por_continente"
   ]
  },
  {
   "cell_type": "code",
   "execution_count": 39,
   "id": "d6011fbe",
   "metadata": {},
   "outputs": [
    {
     "data": {
      "text/plain": [
       "['tab:blue', 'tab:orange', 'tab:green', 'tab:red', 'tab:purple']"
      ]
     },
     "execution_count": 39,
     "metadata": {},
     "output_type": "execute_result"
    }
   ],
   "source": [
    "colors_tab[0:5]"
   ]
  },
  {
   "cell_type": "code",
   "execution_count": 40,
   "id": "a2819456",
   "metadata": {
    "scrolled": false
   },
   "outputs": [
    {
     "data": {
      "image/png": "[encoded data removed]",
      "text/plain": [
       "<Figure size 1000x500 with 1 Axes>"
      ]
     },
     "metadata": {},
     "output_type": "display_data"
    }
   ],
   "source": [
    "plt.rcParams.update({'font.size':10})\n",
    "fig, ax = plt.subplots(figsize=(10,5))\n",
    "graph = ax.bar(casos_por_continente.index, casos_por_continente.values/1000000, color=colors_tab[0:6], width = 0.4)\n",
    "plt.xticks(rotation=30, ha='right')\n",
    "\n",
    "ax.set_title('Casos confirmados por continente')\n",
    "ax.set_ylabel('Número de casos (em milhões)')\n",
    "ax.set_ylim(0,440)\n",
    "\n",
    "autolabel(graph)\n",
    "\n",
    "plt.show()"
   ]
  },
  {
   "cell_type": "markdown",
   "id": "1cf081a0",
   "metadata": {},
   "source": [
    "#### Mortes por continente"
   ]
  },
  {
   "cell_type": "code",
   "execution_count": 41,
   "id": "cb7725b4",
   "metadata": {},
   "outputs": [
    {
     "data": {
      "text/plain": [
       "WHO Region\n",
       "Americas                 19359292\n",
       "Europe                   19271040\n",
       "Eastern Mediterranean     1924029\n",
       "South-East Asia           1458134\n",
       "Western Pacific            932430\n",
       "Africa                     439978\n",
       "Name: Deaths, dtype: int64"
      ]
     },
     "execution_count": 41,
     "metadata": {},
     "output_type": "execute_result"
    }
   ],
   "source": [
    "mortes_por_continente = base2.groupby('WHO Region')['Deaths'].sum().sort_values(ascending=False)\n",
    "mortes_por_continente"
   ]
  },
  {
   "cell_type": "code",
   "execution_count": 42,
   "id": "73e49a62",
   "metadata": {},
   "outputs": [
    {
     "data": {
      "image/png": "[encoded data removed]",
      "text/plain": [
       "<Figure size 1000x500 with 1 Axes>"
      ]
     },
     "metadata": {},
     "output_type": "display_data"
    }
   ],
   "source": [
    "plt.rcParams.update({'font.size':10})\n",
    "fig, ax = plt.subplots(figsize=(10,5))\n",
    "graph = ax.bar(mortes_por_continente.index, mortes_por_continente.values/1000000, color=colors_tab[0:6], width = 0.4)\n",
    "plt.xticks(rotation=30, ha='right')\n",
    "\n",
    "ax.set_title('Mortes por continente')\n",
    "ax.set_ylabel('Número de mortes (em milhões)')\n",
    "ax.set_ylim(0,21)\n",
    "\n",
    "autolabel(graph)\n",
    "\n",
    "plt.show()"
   ]
  },
  {
   "cell_type": "markdown",
   "id": "fe045859",
   "metadata": {},
   "source": [
    "Plotando as informações de **casos confirmados** e **mortes por continente** no mesmo gráfico"
   ]
  },
  {
   "cell_type": "code",
   "execution_count": 43,
   "id": "a8b0e3ee",
   "metadata": {},
   "outputs": [
    {
     "data": {
      "text/html": [
       "<div>\n",
       "<style scoped>\n",
       "    .dataframe tbody tr th:only-of-type {\n",
       "        vertical-align: middle;\n",
       "    }\n",
       "\n",
       "    .dataframe tbody tr th {\n",
       "        vertical-align: top;\n",
       "    }\n",
       "\n",
       "    .dataframe thead th {\n",
       "        text-align: right;\n",
       "    }\n",
       "</style>\n",
       "<table border=\"1\" class=\"dataframe\">\n",
       "  <thead>\n",
       "    <tr style=\"text-align: right;\">\n",
       "      <th></th>\n",
       "      <th>WHO Region</th>\n",
       "      <th>Confirmed</th>\n",
       "    </tr>\n",
       "  </thead>\n",
       "  <tbody>\n",
       "    <tr>\n",
       "      <th>0</th>\n",
       "      <td>Americas</td>\n",
       "      <td>402261194</td>\n",
       "    </tr>\n",
       "    <tr>\n",
       "      <th>1</th>\n",
       "      <td>Europe</td>\n",
       "      <td>248879793</td>\n",
       "    </tr>\n",
       "    <tr>\n",
       "      <th>2</th>\n",
       "      <td>Eastern Mediterranean</td>\n",
       "      <td>74082892</td>\n",
       "    </tr>\n",
       "    <tr>\n",
       "      <th>3</th>\n",
       "      <td>South-East Asia</td>\n",
       "      <td>55118365</td>\n",
       "    </tr>\n",
       "    <tr>\n",
       "      <th>4</th>\n",
       "      <td>Western Pacific</td>\n",
       "      <td>26374411</td>\n",
       "    </tr>\n",
       "    <tr>\n",
       "      <th>5</th>\n",
       "      <td>Africa</td>\n",
       "      <td>21791827</td>\n",
       "    </tr>\n",
       "  </tbody>\n",
       "</table>\n",
       "</div>"
      ],
      "text/plain": [
       "              WHO Region  Confirmed\n",
       "0               Americas  402261194\n",
       "1                 Europe  248879793\n",
       "2  Eastern Mediterranean   74082892\n",
       "3        South-East Asia   55118365\n",
       "4        Western Pacific   26374411\n",
       "5                 Africa   21791827"
      ]
     },
     "execution_count": 43,
     "metadata": {},
     "output_type": "execute_result"
    }
   ],
   "source": [
    "casos_por_continente = casos_por_continente.to_frame().reset_index()\n",
    "casos_por_continente"
   ]
  },
  {
   "cell_type": "code",
   "execution_count": 44,
   "id": "b202e650",
   "metadata": {},
   "outputs": [
    {
     "data": {
      "text/html": [
       "<div>\n",
       "<style scoped>\n",
       "    .dataframe tbody tr th:only-of-type {\n",
       "        vertical-align: middle;\n",
       "    }\n",
       "\n",
       "    .dataframe tbody tr th {\n",
       "        vertical-align: top;\n",
       "    }\n",
       "\n",
       "    .dataframe thead th {\n",
       "        text-align: right;\n",
       "    }\n",
       "</style>\n",
       "<table border=\"1\" class=\"dataframe\">\n",
       "  <thead>\n",
       "    <tr style=\"text-align: right;\">\n",
       "      <th></th>\n",
       "      <th>WHO Region</th>\n",
       "      <th>Deaths</th>\n",
       "    </tr>\n",
       "  </thead>\n",
       "  <tbody>\n",
       "    <tr>\n",
       "      <th>0</th>\n",
       "      <td>Americas</td>\n",
       "      <td>19359292</td>\n",
       "    </tr>\n",
       "    <tr>\n",
       "      <th>1</th>\n",
       "      <td>Europe</td>\n",
       "      <td>19271040</td>\n",
       "    </tr>\n",
       "    <tr>\n",
       "      <th>2</th>\n",
       "      <td>Eastern Mediterranean</td>\n",
       "      <td>1924029</td>\n",
       "    </tr>\n",
       "    <tr>\n",
       "      <th>3</th>\n",
       "      <td>South-East Asia</td>\n",
       "      <td>1458134</td>\n",
       "    </tr>\n",
       "    <tr>\n",
       "      <th>4</th>\n",
       "      <td>Western Pacific</td>\n",
       "      <td>932430</td>\n",
       "    </tr>\n",
       "    <tr>\n",
       "      <th>5</th>\n",
       "      <td>Africa</td>\n",
       "      <td>439978</td>\n",
       "    </tr>\n",
       "  </tbody>\n",
       "</table>\n",
       "</div>"
      ],
      "text/plain": [
       "              WHO Region    Deaths\n",
       "0               Americas  19359292\n",
       "1                 Europe  19271040\n",
       "2  Eastern Mediterranean   1924029\n",
       "3        South-East Asia   1458134\n",
       "4        Western Pacific    932430\n",
       "5                 Africa    439978"
      ]
     },
     "execution_count": 44,
     "metadata": {},
     "output_type": "execute_result"
    }
   ],
   "source": [
    "mortes_por_continente = mortes_por_continente.to_frame().reset_index()\n",
    "mortes_por_continente"
   ]
  },
  {
   "cell_type": "code",
   "execution_count": 45,
   "id": "5388aabb",
   "metadata": {},
   "outputs": [
    {
     "data": {
      "image/png": "[encoded data removed]",
      "text/plain": [
       "<Figure size 1000x500 with 1 Axes>"
      ]
     },
     "metadata": {},
     "output_type": "display_data"
    }
   ],
   "source": [
    "plt.rcParams.update({'font.size':8})\n",
    "\n",
    "fig, ax = plt.subplots(figsize=(10,5))\n",
    "graph1 = ax.bar(casos_por_continente.index - 0.2, casos_por_continente['Confirmed']/1000000, color='tab:blue', width = 0.4, log=True, label='Casos confirmados')\n",
    "graph2 = ax.bar(mortes_por_continente.index + 0.2, mortes_por_continente['Deaths']/1000000, color='tab:red', width = 0.4, log=True, label='Mortes')\n",
    "plt.xticks(rotation=30, ha='right')\n",
    "\n",
    "ax.set_xticks(mortes_por_continente.index)\n",
    "ax.set_xticklabels(mortes_por_continente['WHO Region'])\n",
    "\n",
    "ax.set_title('Casos confirmados e número de mortes por continente')\n",
    "ax.set_ylabel('Número de mortes (em milhões)')\n",
    "ax.set_yticks([])\n",
    "\n",
    "autolabel(graph1)\n",
    "autolabel(graph2)\n",
    "\n",
    "ax.legend()\n",
    "\n",
    "plt.show()"
   ]
  },
  {
   "cell_type": "markdown",
   "id": "b37f4caf",
   "metadata": {},
   "source": [
    "#### Continentes que mais recuperam pacientes"
   ]
  },
  {
   "cell_type": "code",
   "execution_count": 46,
   "id": "2a3b0e28",
   "metadata": {},
   "outputs": [
    {
     "data": {
      "text/html": [
       "<div>\n",
       "<style scoped>\n",
       "    .dataframe tbody tr th:only-of-type {\n",
       "        vertical-align: middle;\n",
       "    }\n",
       "\n",
       "    .dataframe tbody tr th {\n",
       "        vertical-align: top;\n",
       "    }\n",
       "\n",
       "    .dataframe thead th {\n",
       "        text-align: right;\n",
       "    }\n",
       "</style>\n",
       "<table border=\"1\" class=\"dataframe\">\n",
       "  <thead>\n",
       "    <tr style=\"text-align: right;\">\n",
       "      <th></th>\n",
       "      <th>WHO Region</th>\n",
       "      <th>Confirmed</th>\n",
       "      <th>Deaths</th>\n",
       "    </tr>\n",
       "  </thead>\n",
       "  <tbody>\n",
       "    <tr>\n",
       "      <th>0</th>\n",
       "      <td>Africa</td>\n",
       "      <td>21791827</td>\n",
       "      <td>439978</td>\n",
       "    </tr>\n",
       "    <tr>\n",
       "      <th>1</th>\n",
       "      <td>Americas</td>\n",
       "      <td>402261194</td>\n",
       "      <td>19359292</td>\n",
       "    </tr>\n",
       "    <tr>\n",
       "      <th>2</th>\n",
       "      <td>Eastern Mediterranean</td>\n",
       "      <td>74082892</td>\n",
       "      <td>1924029</td>\n",
       "    </tr>\n",
       "    <tr>\n",
       "      <th>3</th>\n",
       "      <td>Europe</td>\n",
       "      <td>248879793</td>\n",
       "      <td>19271040</td>\n",
       "    </tr>\n",
       "    <tr>\n",
       "      <th>4</th>\n",
       "      <td>South-East Asia</td>\n",
       "      <td>55118365</td>\n",
       "      <td>1458134</td>\n",
       "    </tr>\n",
       "    <tr>\n",
       "      <th>5</th>\n",
       "      <td>Western Pacific</td>\n",
       "      <td>26374411</td>\n",
       "      <td>932430</td>\n",
       "    </tr>\n",
       "  </tbody>\n",
       "</table>\n",
       "</div>"
      ],
      "text/plain": [
       "              WHO Region  Confirmed    Deaths\n",
       "0                 Africa   21791827    439978\n",
       "1               Americas  402261194  19359292\n",
       "2  Eastern Mediterranean   74082892   1924029\n",
       "3                 Europe  248879793  19271040\n",
       "4        South-East Asia   55118365   1458134\n",
       "5        Western Pacific   26374411    932430"
      ]
     },
     "execution_count": 46,
     "metadata": {},
     "output_type": "execute_result"
    }
   ],
   "source": [
    "continentes_recuperados_df = base2.groupby('WHO Region')[['Confirmed','Deaths']].sum().reset_index()\n",
    "continentes_recuperados_df"
   ]
  },
  {
   "cell_type": "code",
   "execution_count": 47,
   "id": "139993bc",
   "metadata": {},
   "outputs": [
    {
     "data": {
      "text/html": [
       "<div>\n",
       "<style scoped>\n",
       "    .dataframe tbody tr th:only-of-type {\n",
       "        vertical-align: middle;\n",
       "    }\n",
       "\n",
       "    .dataframe tbody tr th {\n",
       "        vertical-align: top;\n",
       "    }\n",
       "\n",
       "    .dataframe thead th {\n",
       "        text-align: right;\n",
       "    }\n",
       "</style>\n",
       "<table border=\"1\" class=\"dataframe\">\n",
       "  <thead>\n",
       "    <tr style=\"text-align: right;\">\n",
       "      <th></th>\n",
       "      <th>WHO Region</th>\n",
       "      <th>Confirmed</th>\n",
       "      <th>Deaths</th>\n",
       "      <th>Recovered (%)</th>\n",
       "    </tr>\n",
       "  </thead>\n",
       "  <tbody>\n",
       "    <tr>\n",
       "      <th>0</th>\n",
       "      <td>Africa</td>\n",
       "      <td>21791827</td>\n",
       "      <td>439978</td>\n",
       "      <td>97.980995</td>\n",
       "    </tr>\n",
       "    <tr>\n",
       "      <th>1</th>\n",
       "      <td>Eastern Mediterranean</td>\n",
       "      <td>74082892</td>\n",
       "      <td>1924029</td>\n",
       "      <td>97.402870</td>\n",
       "    </tr>\n",
       "    <tr>\n",
       "      <th>2</th>\n",
       "      <td>South-East Asia</td>\n",
       "      <td>55118365</td>\n",
       "      <td>1458134</td>\n",
       "      <td>97.354541</td>\n",
       "    </tr>\n",
       "    <tr>\n",
       "      <th>3</th>\n",
       "      <td>Western Pacific</td>\n",
       "      <td>26374411</td>\n",
       "      <td>932430</td>\n",
       "      <td>96.464641</td>\n",
       "    </tr>\n",
       "    <tr>\n",
       "      <th>4</th>\n",
       "      <td>Americas</td>\n",
       "      <td>402261194</td>\n",
       "      <td>19359292</td>\n",
       "      <td>95.187383</td>\n",
       "    </tr>\n",
       "    <tr>\n",
       "      <th>5</th>\n",
       "      <td>Europe</td>\n",
       "      <td>248879793</td>\n",
       "      <td>19271040</td>\n",
       "      <td>92.256888</td>\n",
       "    </tr>\n",
       "  </tbody>\n",
       "</table>\n",
       "</div>"
      ],
      "text/plain": [
       "              WHO Region  Confirmed    Deaths  Recovered (%)\n",
       "0                 Africa   21791827    439978      97.980995\n",
       "1  Eastern Mediterranean   74082892   1924029      97.402870\n",
       "2        South-East Asia   55118365   1458134      97.354541\n",
       "3        Western Pacific   26374411    932430      96.464641\n",
       "4               Americas  402261194  19359292      95.187383\n",
       "5                 Europe  248879793  19271040      92.256888"
      ]
     },
     "execution_count": 47,
     "metadata": {},
     "output_type": "execute_result"
    }
   ],
   "source": [
    "continentes_recuperados_df['Recovered (%)'] = ((continentes_recuperados_df['Confirmed'] - continentes_recuperados_df['Deaths'])/continentes_recuperados_df['Confirmed'])*100\n",
    "continentes_recuperados_df = continentes_recuperados_df.sort_values(by='Recovered (%)', ascending=False).reset_index().drop('index',axis=1)\n",
    "continentes_recuperados_df"
   ]
  },
  {
   "cell_type": "code",
   "execution_count": 48,
   "id": "ddc743a6",
   "metadata": {
    "scrolled": false
   },
   "outputs": [
    {
     "data": {
      "image/png": "[encoded data removed]",
      "text/plain": [
       "<Figure size 1000x500 with 1 Axes>"
      ]
     },
     "metadata": {},
     "output_type": "display_data"
    }
   ],
   "source": [
    "plt.rcParams.update({'font.size':10})\n",
    "\n",
    "fig, ax = plt.subplots(figsize=(10,5))\n",
    "graph1 = ax.bar(continentes_recuperados_df.index, continentes_recuperados_df['Recovered (%)'], color=colors_tab[0:6], width = 0.4)\n",
    "#graph2 = ax.bar(continentes_recuperados_df.index + 0.2, continentes_recuperados_df['Recovered']/1000000, color='tab:red', width = 0.4, label='Casos recuperados')\n",
    "plt.xticks(rotation=30, ha='right')\n",
    "\n",
    "ax.set_xticks(continentes_recuperados_df.index)\n",
    "ax.set_xticklabels(continentes_recuperados_df['WHO Region'])\n",
    "\n",
    "ax.set_title('Continentes que mais recuperam pacientes')\n",
    "ax.set_ylabel('Percentual de casos recuperados')\n",
    "ax.set_ylim(0,105)\n",
    "\n",
    "autolabel(graph1,precisao=4,unidade='%')\n",
    "\n",
    "plt.show()"
   ]
  }
 ],
 "metadata": {
  "kernelspec": {
   "display_name": "Python 3 (ipykernel)",
   "language": "python",
   "name": "python3"
  },
  "language_info": {
   "codemirror_mode": {
    "name": "ipython",
    "version": 3
   },
   "file_extension": ".py",
   "mimetype": "text/x-python",
   "name": "python",
   "nbconvert_exporter": "python",
   "pygments_lexer": "ipython3",
   "version": "3.9.13"
  }
 },
 "nbformat": 4,
 "nbformat_minor": 5
}
