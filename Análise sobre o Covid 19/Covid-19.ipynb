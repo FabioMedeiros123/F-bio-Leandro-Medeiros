{
 "cells": [
  {
   "cell_type": "markdown",
   "id": "95ffc84b",
   "metadata": {},
   "source": [
    "## Importando os dados"
   ]
  },
  {
   "cell_type": "code",
   "execution_count": 177,
   "id": "de214345",
   "metadata": {},
   "outputs": [],
   "source": [
    "# Importando o pandas\n",
    "import pandas as pd"
   ]
  },
  {
   "cell_type": "code",
   "execution_count": 178,
   "id": "52d6b296",
   "metadata": {},
   "outputs": [],
   "source": [
    "# Lendo a base de dados\n",
    "base = pd.read_csv('covid_19_clean_complete.csv')"
   ]
  },
  {
   "cell_type": "code",
   "execution_count": 179,
   "id": "7903a14a",
   "metadata": {},
   "outputs": [
    {
     "data": {
      "text/html": [
       "<div>\n",
       "<style scoped>\n",
       "    .dataframe tbody tr th:only-of-type {\n",
       "        vertical-align: middle;\n",
       "    }\n",
       "\n",
       "    .dataframe tbody tr th {\n",
       "        vertical-align: top;\n",
       "    }\n",
       "\n",
       "    .dataframe thead th {\n",
       "        text-align: right;\n",
       "    }\n",
       "</style>\n",
       "<table border=\"1\" class=\"dataframe\">\n",
       "  <thead>\n",
       "    <tr style=\"text-align: right;\">\n",
       "      <th></th>\n",
       "      <th>Province/State</th>\n",
       "      <th>Country/Region</th>\n",
       "      <th>Lat</th>\n",
       "      <th>Long</th>\n",
       "      <th>Date</th>\n",
       "      <th>Confirmed</th>\n",
       "      <th>Deaths</th>\n",
       "      <th>Recovered</th>\n",
       "      <th>Active</th>\n",
       "      <th>WHO Region</th>\n",
       "    </tr>\n",
       "  </thead>\n",
       "  <tbody>\n",
       "    <tr>\n",
       "      <th>0</th>\n",
       "      <td>NaN</td>\n",
       "      <td>Afghanistan</td>\n",
       "      <td>33.939110</td>\n",
       "      <td>67.709953</td>\n",
       "      <td>2020-01-22</td>\n",
       "      <td>0</td>\n",
       "      <td>0</td>\n",
       "      <td>0</td>\n",
       "      <td>0</td>\n",
       "      <td>Eastern Mediterranean</td>\n",
       "    </tr>\n",
       "    <tr>\n",
       "      <th>1</th>\n",
       "      <td>NaN</td>\n",
       "      <td>Albania</td>\n",
       "      <td>41.153300</td>\n",
       "      <td>20.168300</td>\n",
       "      <td>2020-01-22</td>\n",
       "      <td>0</td>\n",
       "      <td>0</td>\n",
       "      <td>0</td>\n",
       "      <td>0</td>\n",
       "      <td>Europe</td>\n",
       "    </tr>\n",
       "    <tr>\n",
       "      <th>2</th>\n",
       "      <td>NaN</td>\n",
       "      <td>Algeria</td>\n",
       "      <td>28.033900</td>\n",
       "      <td>1.659600</td>\n",
       "      <td>2020-01-22</td>\n",
       "      <td>0</td>\n",
       "      <td>0</td>\n",
       "      <td>0</td>\n",
       "      <td>0</td>\n",
       "      <td>Africa</td>\n",
       "    </tr>\n",
       "    <tr>\n",
       "      <th>3</th>\n",
       "      <td>NaN</td>\n",
       "      <td>Andorra</td>\n",
       "      <td>42.506300</td>\n",
       "      <td>1.521800</td>\n",
       "      <td>2020-01-22</td>\n",
       "      <td>0</td>\n",
       "      <td>0</td>\n",
       "      <td>0</td>\n",
       "      <td>0</td>\n",
       "      <td>Europe</td>\n",
       "    </tr>\n",
       "    <tr>\n",
       "      <th>4</th>\n",
       "      <td>NaN</td>\n",
       "      <td>Angola</td>\n",
       "      <td>-11.202700</td>\n",
       "      <td>17.873900</td>\n",
       "      <td>2020-01-22</td>\n",
       "      <td>0</td>\n",
       "      <td>0</td>\n",
       "      <td>0</td>\n",
       "      <td>0</td>\n",
       "      <td>Africa</td>\n",
       "    </tr>\n",
       "    <tr>\n",
       "      <th>...</th>\n",
       "      <td>...</td>\n",
       "      <td>...</td>\n",
       "      <td>...</td>\n",
       "      <td>...</td>\n",
       "      <td>...</td>\n",
       "      <td>...</td>\n",
       "      <td>...</td>\n",
       "      <td>...</td>\n",
       "      <td>...</td>\n",
       "      <td>...</td>\n",
       "    </tr>\n",
       "    <tr>\n",
       "      <th>49063</th>\n",
       "      <td>NaN</td>\n",
       "      <td>Sao Tome and Principe</td>\n",
       "      <td>0.186400</td>\n",
       "      <td>6.613100</td>\n",
       "      <td>2020-07-27</td>\n",
       "      <td>865</td>\n",
       "      <td>14</td>\n",
       "      <td>734</td>\n",
       "      <td>117</td>\n",
       "      <td>Africa</td>\n",
       "    </tr>\n",
       "    <tr>\n",
       "      <th>49064</th>\n",
       "      <td>NaN</td>\n",
       "      <td>Yemen</td>\n",
       "      <td>15.552727</td>\n",
       "      <td>48.516388</td>\n",
       "      <td>2020-07-27</td>\n",
       "      <td>1691</td>\n",
       "      <td>483</td>\n",
       "      <td>833</td>\n",
       "      <td>375</td>\n",
       "      <td>Eastern Mediterranean</td>\n",
       "    </tr>\n",
       "    <tr>\n",
       "      <th>49065</th>\n",
       "      <td>NaN</td>\n",
       "      <td>Comoros</td>\n",
       "      <td>-11.645500</td>\n",
       "      <td>43.333300</td>\n",
       "      <td>2020-07-27</td>\n",
       "      <td>354</td>\n",
       "      <td>7</td>\n",
       "      <td>328</td>\n",
       "      <td>19</td>\n",
       "      <td>Africa</td>\n",
       "    </tr>\n",
       "    <tr>\n",
       "      <th>49066</th>\n",
       "      <td>NaN</td>\n",
       "      <td>Tajikistan</td>\n",
       "      <td>38.861000</td>\n",
       "      <td>71.276100</td>\n",
       "      <td>2020-07-27</td>\n",
       "      <td>7235</td>\n",
       "      <td>60</td>\n",
       "      <td>6028</td>\n",
       "      <td>1147</td>\n",
       "      <td>Europe</td>\n",
       "    </tr>\n",
       "    <tr>\n",
       "      <th>49067</th>\n",
       "      <td>NaN</td>\n",
       "      <td>Lesotho</td>\n",
       "      <td>-29.610000</td>\n",
       "      <td>28.233600</td>\n",
       "      <td>2020-07-27</td>\n",
       "      <td>505</td>\n",
       "      <td>12</td>\n",
       "      <td>128</td>\n",
       "      <td>365</td>\n",
       "      <td>Africa</td>\n",
       "    </tr>\n",
       "  </tbody>\n",
       "</table>\n",
       "<p>49068 rows × 10 columns</p>\n",
       "</div>"
      ],
      "text/plain": [
       "      Province/State         Country/Region        Lat       Long        Date  \\\n",
       "0                NaN            Afghanistan  33.939110  67.709953  2020-01-22   \n",
       "1                NaN                Albania  41.153300  20.168300  2020-01-22   \n",
       "2                NaN                Algeria  28.033900   1.659600  2020-01-22   \n",
       "3                NaN                Andorra  42.506300   1.521800  2020-01-22   \n",
       "4                NaN                 Angola -11.202700  17.873900  2020-01-22   \n",
       "...              ...                    ...        ...        ...         ...   \n",
       "49063            NaN  Sao Tome and Principe   0.186400   6.613100  2020-07-27   \n",
       "49064            NaN                  Yemen  15.552727  48.516388  2020-07-27   \n",
       "49065            NaN                Comoros -11.645500  43.333300  2020-07-27   \n",
       "49066            NaN             Tajikistan  38.861000  71.276100  2020-07-27   \n",
       "49067            NaN                Lesotho -29.610000  28.233600  2020-07-27   \n",
       "\n",
       "       Confirmed  Deaths  Recovered  Active             WHO Region  \n",
       "0              0       0          0       0  Eastern Mediterranean  \n",
       "1              0       0          0       0                 Europe  \n",
       "2              0       0          0       0                 Africa  \n",
       "3              0       0          0       0                 Europe  \n",
       "4              0       0          0       0                 Africa  \n",
       "...          ...     ...        ...     ...                    ...  \n",
       "49063        865      14        734     117                 Africa  \n",
       "49064       1691     483        833     375  Eastern Mediterranean  \n",
       "49065        354       7        328      19                 Africa  \n",
       "49066       7235      60       6028    1147                 Europe  \n",
       "49067        505      12        128     365                 Africa  \n",
       "\n",
       "[49068 rows x 10 columns]"
      ]
     },
     "metadata": {},
     "output_type": "display_data"
    }
   ],
   "source": [
    "# Olhando as 5 primeiras linhas e as 5 últimas do conjuntos de dados\n",
    "display(base)"
   ]
  },
  {
   "cell_type": "markdown",
   "id": "c56cc8e7",
   "metadata": {},
   "source": [
    "## Analisando os dados"
   ]
  },
  {
   "cell_type": "markdown",
   "id": "f99fa485",
   "metadata": {},
   "source": [
    "#### Algumas colunas possuem muitos dados ausentes"
   ]
  },
  {
   "cell_type": "code",
   "execution_count": 180,
   "id": "68320d21",
   "metadata": {},
   "outputs": [
    {
     "name": "stdout",
     "output_type": "stream",
     "text": [
      "<class 'pandas.core.frame.DataFrame'>\n",
      "RangeIndex: 49068 entries, 0 to 49067\n",
      "Data columns (total 10 columns):\n",
      " #   Column          Non-Null Count  Dtype  \n",
      "---  ------          --------------  -----  \n",
      " 0   Province/State  14664 non-null  object \n",
      " 1   Country/Region  49068 non-null  object \n",
      " 2   Lat             49068 non-null  float64\n",
      " 3   Long            49068 non-null  float64\n",
      " 4   Date            49068 non-null  object \n",
      " 5   Confirmed       49068 non-null  int64  \n",
      " 6   Deaths          49068 non-null  int64  \n",
      " 7   Recovered       49068 non-null  int64  \n",
      " 8   Active          49068 non-null  int64  \n",
      " 9   WHO Region      49068 non-null  object \n",
      "dtypes: float64(2), int64(4), object(4)\n",
      "memory usage: 3.7+ MB\n"
     ]
    }
   ],
   "source": [
    "# Mostrando informações da base de dados\n",
    "base.info()"
   ]
  },
  {
   "cell_type": "markdown",
   "id": "880bf803",
   "metadata": {},
   "source": [
    "#### Province/State possui muitos valores ausentes, então é interessante retirá-la para a análise"
   ]
  },
  {
   "cell_type": "code",
   "execution_count": 181,
   "id": "1d25d465",
   "metadata": {},
   "outputs": [
    {
     "data": {
      "text/plain": [
       "Province/State    34404\n",
       "Country/Region        0\n",
       "Lat                   0\n",
       "Long                  0\n",
       "Date                  0\n",
       "Confirmed             0\n",
       "Deaths                0\n",
       "Recovered             0\n",
       "Active                0\n",
       "WHO Region            0\n",
       "dtype: int64"
      ]
     },
     "execution_count": 181,
     "metadata": {},
     "output_type": "execute_result"
    }
   ],
   "source": [
    "# Número de valores ausentes em cada coluna\n",
    "base.isnull().sum()"
   ]
  },
  {
   "cell_type": "code",
   "execution_count": 182,
   "id": "257bef14",
   "metadata": {},
   "outputs": [
    {
     "name": "stdout",
     "output_type": "stream",
     "text": [
      "<class 'pandas.core.frame.DataFrame'>\n",
      "RangeIndex: 49068 entries, 0 to 49067\n",
      "Data columns (total 9 columns):\n",
      " #   Column          Non-Null Count  Dtype  \n",
      "---  ------          --------------  -----  \n",
      " 0   Country/Region  49068 non-null  object \n",
      " 1   Lat             49068 non-null  float64\n",
      " 2   Long            49068 non-null  float64\n",
      " 3   Date            49068 non-null  object \n",
      " 4   Confirmed       49068 non-null  int64  \n",
      " 5   Deaths          49068 non-null  int64  \n",
      " 6   Recovered       49068 non-null  int64  \n",
      " 7   Active          49068 non-null  int64  \n",
      " 8   WHO Region      49068 non-null  object \n",
      "dtypes: float64(2), int64(4), object(3)\n",
      "memory usage: 3.4+ MB\n"
     ]
    }
   ],
   "source": [
    "# Apagando a coluna province/state\n",
    "base2 = base.drop('Province/State', axis=1)\n",
    "base2.info()"
   ]
  },
  {
   "cell_type": "code",
   "execution_count": 183,
   "id": "0e8dd495",
   "metadata": {},
   "outputs": [
    {
     "data": {
      "text/plain": [
       "Country/Region    0\n",
       "Lat               0\n",
       "Long              0\n",
       "Date              0\n",
       "Confirmed         0\n",
       "Deaths            0\n",
       "Recovered         0\n",
       "Active            0\n",
       "WHO Region        0\n",
       "dtype: int64"
      ]
     },
     "execution_count": 183,
     "metadata": {},
     "output_type": "execute_result"
    }
   ],
   "source": [
    "# Verificando se ela foi retirada\n",
    "base2.isnull().sum()"
   ]
  },
  {
   "cell_type": "code",
   "execution_count": 184,
   "id": "cd1e984b",
   "metadata": {},
   "outputs": [
    {
     "data": {
      "text/plain": [
       "(49068, 9)"
      ]
     },
     "execution_count": 184,
     "metadata": {},
     "output_type": "execute_result"
    }
   ],
   "source": [
    "# Número de linhas e colunas do dataframa (linhas, colunas)\n",
    "base2.shape"
   ]
  },
  {
   "cell_type": "markdown",
   "id": "193aec45",
   "metadata": {},
   "source": [
    "#### Verificando algumas informações estatísticas"
   ]
  },
  {
   "cell_type": "code",
   "execution_count": 185,
   "id": "1244f413",
   "metadata": {
    "scrolled": true
   },
   "outputs": [
    {
     "data": {
      "text/html": [
       "<div>\n",
       "<style scoped>\n",
       "    .dataframe tbody tr th:only-of-type {\n",
       "        vertical-align: middle;\n",
       "    }\n",
       "\n",
       "    .dataframe tbody tr th {\n",
       "        vertical-align: top;\n",
       "    }\n",
       "\n",
       "    .dataframe thead th {\n",
       "        text-align: right;\n",
       "    }\n",
       "</style>\n",
       "<table border=\"1\" class=\"dataframe\">\n",
       "  <thead>\n",
       "    <tr style=\"text-align: right;\">\n",
       "      <th></th>\n",
       "      <th>Lat</th>\n",
       "      <th>Long</th>\n",
       "      <th>Confirmed</th>\n",
       "      <th>Deaths</th>\n",
       "      <th>Recovered</th>\n",
       "      <th>Active</th>\n",
       "    </tr>\n",
       "  </thead>\n",
       "  <tbody>\n",
       "    <tr>\n",
       "      <th>count</th>\n",
       "      <td>49068.000000</td>\n",
       "      <td>49068.000000</td>\n",
       "      <td>4.906800e+04</td>\n",
       "      <td>49068.000000</td>\n",
       "      <td>4.906800e+04</td>\n",
       "      <td>4.906800e+04</td>\n",
       "    </tr>\n",
       "    <tr>\n",
       "      <th>mean</th>\n",
       "      <td>21.433730</td>\n",
       "      <td>23.528236</td>\n",
       "      <td>1.688490e+04</td>\n",
       "      <td>884.179160</td>\n",
       "      <td>7.915713e+03</td>\n",
       "      <td>8.085012e+03</td>\n",
       "    </tr>\n",
       "    <tr>\n",
       "      <th>std</th>\n",
       "      <td>24.950320</td>\n",
       "      <td>70.442740</td>\n",
       "      <td>1.273002e+05</td>\n",
       "      <td>6313.584411</td>\n",
       "      <td>5.480092e+04</td>\n",
       "      <td>7.625890e+04</td>\n",
       "    </tr>\n",
       "    <tr>\n",
       "      <th>min</th>\n",
       "      <td>-51.796300</td>\n",
       "      <td>-135.000000</td>\n",
       "      <td>0.000000e+00</td>\n",
       "      <td>0.000000</td>\n",
       "      <td>0.000000e+00</td>\n",
       "      <td>-1.400000e+01</td>\n",
       "    </tr>\n",
       "    <tr>\n",
       "      <th>25%</th>\n",
       "      <td>7.873054</td>\n",
       "      <td>-15.310100</td>\n",
       "      <td>4.000000e+00</td>\n",
       "      <td>0.000000</td>\n",
       "      <td>0.000000e+00</td>\n",
       "      <td>0.000000e+00</td>\n",
       "    </tr>\n",
       "    <tr>\n",
       "      <th>50%</th>\n",
       "      <td>23.634500</td>\n",
       "      <td>21.745300</td>\n",
       "      <td>1.680000e+02</td>\n",
       "      <td>2.000000</td>\n",
       "      <td>2.900000e+01</td>\n",
       "      <td>2.600000e+01</td>\n",
       "    </tr>\n",
       "    <tr>\n",
       "      <th>75%</th>\n",
       "      <td>41.204380</td>\n",
       "      <td>80.771797</td>\n",
       "      <td>1.518250e+03</td>\n",
       "      <td>30.000000</td>\n",
       "      <td>6.660000e+02</td>\n",
       "      <td>6.060000e+02</td>\n",
       "    </tr>\n",
       "    <tr>\n",
       "      <th>max</th>\n",
       "      <td>71.706900</td>\n",
       "      <td>178.065000</td>\n",
       "      <td>4.290259e+06</td>\n",
       "      <td>148011.000000</td>\n",
       "      <td>1.846641e+06</td>\n",
       "      <td>2.816444e+06</td>\n",
       "    </tr>\n",
       "  </tbody>\n",
       "</table>\n",
       "</div>"
      ],
      "text/plain": [
       "                Lat          Long     Confirmed         Deaths     Recovered  \\\n",
       "count  49068.000000  49068.000000  4.906800e+04   49068.000000  4.906800e+04   \n",
       "mean      21.433730     23.528236  1.688490e+04     884.179160  7.915713e+03   \n",
       "std       24.950320     70.442740  1.273002e+05    6313.584411  5.480092e+04   \n",
       "min      -51.796300   -135.000000  0.000000e+00       0.000000  0.000000e+00   \n",
       "25%        7.873054    -15.310100  4.000000e+00       0.000000  0.000000e+00   \n",
       "50%       23.634500     21.745300  1.680000e+02       2.000000  2.900000e+01   \n",
       "75%       41.204380     80.771797  1.518250e+03      30.000000  6.660000e+02   \n",
       "max       71.706900    178.065000  4.290259e+06  148011.000000  1.846641e+06   \n",
       "\n",
       "             Active  \n",
       "count  4.906800e+04  \n",
       "mean   8.085012e+03  \n",
       "std    7.625890e+04  \n",
       "min   -1.400000e+01  \n",
       "25%    0.000000e+00  \n",
       "50%    2.600000e+01  \n",
       "75%    6.060000e+02  \n",
       "max    2.816444e+06  "
      ]
     },
     "execution_count": 185,
     "metadata": {},
     "output_type": "execute_result"
    }
   ],
   "source": [
    "# Informações estatísticas para entender melhor os dados\n",
    "base2.describe()"
   ]
  },
  {
   "cell_type": "markdown",
   "id": "7b0d2118",
   "metadata": {},
   "source": [
    "#### Os dados coletados vão de 22/jan/2020 até 27/jul/2020"
   ]
  },
  {
   "cell_type": "code",
   "execution_count": 186,
   "id": "3e21ee8b",
   "metadata": {},
   "outputs": [
    {
     "data": {
      "text/plain": [
       "'2020-01-22'"
      ]
     },
     "execution_count": 186,
     "metadata": {},
     "output_type": "execute_result"
    }
   ],
   "source": [
    "# data em que a coleta começou\n",
    "base2['Date'].unique()[0]"
   ]
  },
  {
   "cell_type": "code",
   "execution_count": 187,
   "id": "eebc4c22",
   "metadata": {
    "scrolled": true
   },
   "outputs": [
    {
     "data": {
      "text/plain": [
       "'2020-07-27'"
      ]
     },
     "execution_count": 187,
     "metadata": {},
     "output_type": "execute_result"
    }
   ],
   "source": [
    "# data em que a coleta terminou\n",
    "base2['Date'].unique()[-1]"
   ]
  },
  {
   "cell_type": "markdown",
   "id": "47f610ef",
   "metadata": {},
   "source": [
    "## Analisando os meses de Janeiro e Fevereiro"
   ]
  },
  {
   "cell_type": "code",
   "execution_count": 188,
   "id": "576108c3",
   "metadata": {
    "scrolled": true
   },
   "outputs": [
    {
     "data": {
      "text/plain": [
       "array(['2020-01-22', '2020-01-23', '2020-01-24', '2020-01-25',\n",
       "       '2020-01-26', '2020-01-27', '2020-01-28', '2020-01-29',\n",
       "       '2020-01-30', '2020-01-31', '2020-02-01', '2020-02-02',\n",
       "       '2020-02-03', '2020-02-04', '2020-02-05', '2020-02-06',\n",
       "       '2020-02-07', '2020-02-08', '2020-02-09', '2020-02-10',\n",
       "       '2020-02-11', '2020-02-12', '2020-02-13', '2020-02-14',\n",
       "       '2020-02-15', '2020-02-16', '2020-02-17', '2020-02-18',\n",
       "       '2020-02-19', '2020-02-20', '2020-02-21', '2020-02-22',\n",
       "       '2020-02-23', '2020-02-24', '2020-02-25', '2020-02-26',\n",
       "       '2020-02-27', '2020-02-28', '2020-02-29'], dtype='<U10')"
      ]
     },
     "execution_count": 188,
     "metadata": {},
     "output_type": "execute_result"
    }
   ],
   "source": [
    "# Extraindo as datas dos meses de janeiro e fevereiro\n",
    "import numpy as np\n",
    "\n",
    "mes_janeiro_fevereiro = []\n",
    "for data2 in base2['Date']:\n",
    "    if ('2020-01' in data2) or ('2020-02' in data2):\n",
    "        mes_janeiro_fevereiro.append(data2)\n",
    "        \n",
    "mes_janeiro_fevereiro = np.array(mes_janeiro_fevereiro)\n",
    "mes_janeiro_fevereiro = np.unique(mes_janeiro_fevereiro)\n",
    "mes_janeiro_fevereiro"
   ]
  },
  {
   "cell_type": "markdown",
   "id": "96451978",
   "metadata": {},
   "source": [
    "#### Taxa de mortes igual a 280,64% aproximadamente nos meses de janeiro e fevereiro"
   ]
  },
  {
   "cell_type": "markdown",
   "id": "667a3c3e",
   "metadata": {},
   "source": [
    "$$ Tx = \\frac{m}{c} \\times 100 $$"
   ]
  },
  {
   "cell_type": "markdown",
   "id": "728212e2",
   "metadata": {},
   "source": [
    "- Tx é a taxa de mortalidade nos meses de janeiro e fevereiro\n",
    "- m é o número de mortes nos meses de janeiro e feveireiro\n",
    "- c é o número de casos confirmados nos meses de janeiro e fevereiro"
   ]
  },
  {
   "cell_type": "code",
   "execution_count": 189,
   "id": "4873b45f",
   "metadata": {},
   "outputs": [
    {
     "data": {
      "text/plain": [
       "2.806393293422743"
      ]
     },
     "execution_count": 189,
     "metadata": {},
     "output_type": "execute_result"
    }
   ],
   "source": [
    "tx_morte = ((base2.query('Date in @mes_janeiro_fevereiro')['Deaths'].mean())/(base2.query('Date in @mes_janeiro_fevereiro')['Confirmed'].mean())) * 100\n",
    "tx_morte"
   ]
  },
  {
   "cell_type": "markdown",
   "id": "10bba7cd",
   "metadata": {},
   "source": [
    "## Analisando os meses de Junho e Julho"
   ]
  },
  {
   "cell_type": "code",
   "execution_count": 190,
   "id": "8b76e9cd",
   "metadata": {},
   "outputs": [
    {
     "data": {
      "text/plain": [
       "array(['2020-06-01', '2020-06-02', '2020-06-03', '2020-06-04',\n",
       "       '2020-06-05', '2020-06-06', '2020-06-07', '2020-06-08',\n",
       "       '2020-06-09', '2020-06-10', '2020-06-11', '2020-06-12',\n",
       "       '2020-06-13', '2020-06-14', '2020-06-15', '2020-06-16',\n",
       "       '2020-06-17', '2020-06-18', '2020-06-19', '2020-06-20',\n",
       "       '2020-06-21', '2020-06-22', '2020-06-23', '2020-06-24',\n",
       "       '2020-06-25', '2020-06-26', '2020-06-27', '2020-06-28',\n",
       "       '2020-06-29', '2020-06-30', '2020-07-01', '2020-07-02',\n",
       "       '2020-07-03', '2020-07-04', '2020-07-05', '2020-07-06',\n",
       "       '2020-07-07', '2020-07-08', '2020-07-09', '2020-07-10',\n",
       "       '2020-07-11', '2020-07-12', '2020-07-13', '2020-07-14',\n",
       "       '2020-07-15', '2020-07-16', '2020-07-17', '2020-07-18',\n",
       "       '2020-07-19', '2020-07-20', '2020-07-21', '2020-07-22',\n",
       "       '2020-07-23', '2020-07-24', '2020-07-25', '2020-07-26',\n",
       "       '2020-07-27'], dtype='<U10')"
      ]
     },
     "execution_count": 190,
     "metadata": {},
     "output_type": "execute_result"
    }
   ],
   "source": [
    "# Extraindo as datas dos meses de junho e julho\n",
    "mes_junho_julho = []\n",
    "for data2 in base2['Date']:\n",
    "    if ('2020-06') in data2 or ('2020-07' in data2):\n",
    "        mes_junho_julho.append(data2)\n",
    "        \n",
    "mes_junho_julho = np.array(mes_junho_julho)\n",
    "mes_junho_julho = np.unique(mes_junho_julho)\n",
    "mes_junho_julho"
   ]
  },
  {
   "cell_type": "markdown",
   "id": "fa09f524",
   "metadata": {},
   "source": [
    "#### Taxa de mortes igual a 476,16% aproximadamente nos meses de junho e julho"
   ]
  },
  {
   "cell_type": "markdown",
   "id": "ebbb46e6",
   "metadata": {},
   "source": [
    "$$ Tx = \\frac{m}{c} \\times 100 $$"
   ]
  },
  {
   "cell_type": "markdown",
   "id": "1594b3f4",
   "metadata": {},
   "source": [
    "- Tx é a taxa de mortalidade nos meses de junho e julho\n",
    "- m é o número de mortes nos meses de junho e julho\n",
    "- c é o número de casos confirmados nos meses de junho e julho"
   ]
  },
  {
   "cell_type": "code",
   "execution_count": 191,
   "id": "be18ec57",
   "metadata": {},
   "outputs": [
    {
     "data": {
      "text/plain": [
       "4.761681951117472"
      ]
     },
     "execution_count": 191,
     "metadata": {},
     "output_type": "execute_result"
    }
   ],
   "source": [
    "tx_morte = ((base2.query('Date in @mes_junho_julho')['Deaths'].mean())/(base2.query('Date in @mes_junho_julho')['Confirmed'].mean())) * 100\n",
    "tx_morte"
   ]
  },
  {
   "cell_type": "markdown",
   "id": "616166b9",
   "metadata": {},
   "source": [
    "A mediana e a média estão muito distantes uma da outra. Analisando os dados de Janeiro, fevereiro, junho e julho, pode-se notar que ouve um aumento considerável de mortes. Além disso, o número que indica a taxa, por ser maior que um, demonstra que o número de mortes foi maior do que a capacidade de diagnosticar a doença."
   ]
  },
  {
   "cell_type": "markdown",
   "id": "ccecbd4c",
   "metadata": {},
   "source": [
    "#### Os 10 países com mais casos confirmados de covid"
   ]
  },
  {
   "cell_type": "code",
   "execution_count": 192,
   "id": "06bade44",
   "metadata": {},
   "outputs": [
    {
     "data": {
      "text/plain": [
       "Country/Region\n",
       "US                224345948\n",
       "Brazil             89524967\n",
       "Russia             45408411\n",
       "India              40883464\n",
       "Spain              27404045\n",
       "United Kingdom     26748587\n",
       "Italy              26745145\n",
       "France             21210926\n",
       "Germany            21059152\n",
       "Iran               19339267\n",
       "Name: Confirmed, dtype: int64"
      ]
     },
     "execution_count": 192,
     "metadata": {},
     "output_type": "execute_result"
    }
   ],
   "source": [
    "paises_mais_confirmados = base2[['Country/Region','Confirmed']].groupby(by='Country/Region')['Confirmed'].sum().sort_values(ascending=False)[0:10]\n",
    "paises_mais_confirmados"
   ]
  },
  {
   "cell_type": "code",
   "execution_count": 193,
   "id": "e0e35749",
   "metadata": {},
   "outputs": [
    {
     "data": {
      "image/png": "[encoded data removed]",
      "text/plain": [
       "<Figure size 640x480 with 1 Axes>"
      ]
     },
     "metadata": {},
     "output_type": "display_data"
    }
   ],
   "source": [
    "import matplotlib.pyplot as plt\n",
    "\n",
    "fig, ax = plt.subplots()\n",
    "ax.bar(paises_mais_confirmados.index, paises_mais_confirmados.values, color ='green', width = 0.4)\n",
    "plt.xticks(rotation=30, ha='right')\n",
    "plt.ticklabel_format(style='scientific', axis='y', useMathText=True)\n",
    "\n",
    "plt.show()"
   ]
  },
  {
   "cell_type": "markdown",
   "id": "00927bca",
   "metadata": {},
   "source": [
    "#### Os 10 países com maior número de mortes"
   ]
  },
  {
   "cell_type": "code",
   "execution_count": 194,
   "id": "1e4370d1",
   "metadata": {},
   "outputs": [
    {
     "data": {
      "text/plain": [
       "Country/Region\n",
       "US                11011411\n",
       "United Kingdom     3997775\n",
       "Brazil             3938034\n",
       "Italy              3707717\n",
       "France             3048524\n",
       "Spain              3033030\n",
       "Mexico             1728277\n",
       "India              1111831\n",
       "Iran               1024136\n",
       "Belgium             963679\n",
       "Name: Deaths, dtype: int64"
      ]
     },
     "execution_count": 194,
     "metadata": {},
     "output_type": "execute_result"
    }
   ],
   "source": [
    "paises_mais_mortes = base2.groupby('Country/Region')['Deaths'].sum().sort_values(ascending=False)[0:10]\n",
    "paises_mais_mortes"
   ]
  },
  {
   "cell_type": "code",
   "execution_count": 195,
   "id": "2ad22784",
   "metadata": {},
   "outputs": [
    {
     "data": {
      "image/png": "[encoded data removed]",
      "text/plain": [
       "<Figure size 640x480 with 1 Axes>"
      ]
     },
     "metadata": {},
     "output_type": "display_data"
    }
   ],
   "source": [
    "fig, ax = plt.subplots()\n",
    "ax.bar(paises_mais_mortes.index, paises_mais_mortes.values, color ='maroon', width = 0.4)\n",
    "plt.xticks(rotation=30, ha='right')\n",
    "\n",
    "plt.ticklabel_format(style='scientific', axis='y', useMathText=True)\n",
    "plt.show()"
   ]
  },
  {
   "cell_type": "markdown",
   "id": "c8c34f63",
   "metadata": {},
   "source": [
    "#### Casos confirmados por continente"
   ]
  },
  {
   "cell_type": "code",
   "execution_count": 196,
   "id": "3137f129",
   "metadata": {},
   "outputs": [
    {
     "data": {
      "text/plain": [
       "WHO Region\n",
       "Americas                 402261194\n",
       "Europe                   248879793\n",
       "Eastern Mediterranean     74082892\n",
       "South-East Asia           55118365\n",
       "Western Pacific           26374411\n",
       "Africa                    21791827\n",
       "Name: Confirmed, dtype: int64"
      ]
     },
     "execution_count": 196,
     "metadata": {},
     "output_type": "execute_result"
    }
   ],
   "source": [
    "casos_por_continente = base2.groupby('WHO Region')['Confirmed'].sum().sort_values(ascending=False)\n",
    "casos_por_continente"
   ]
  },
  {
   "cell_type": "code",
   "execution_count": 197,
   "id": "b79d213e",
   "metadata": {},
   "outputs": [
    {
     "data": {
      "image/png": "[encoded data removed]",
      "text/plain": [
       "<Figure size 640x480 with 1 Axes>"
      ]
     },
     "metadata": {},
     "output_type": "display_data"
    }
   ],
   "source": [
    "fig, ax = plt.subplots()\n",
    "ax.bar(casos_por_continente.index, casos_por_continente.values, color ='red', width = 0.4)\n",
    "plt.xticks(rotation=30, ha='right')\n",
    "plt.ticklabel_format(style='scientific', axis='y', useMathText=True)\n",
    "plt.show()"
   ]
  },
  {
   "cell_type": "markdown",
   "id": "c319b24e",
   "metadata": {},
   "source": [
    "#### Todos os países tiveram covid em algum momento durante o período analisado"
   ]
  },
  {
   "cell_type": "code",
   "execution_count": 198,
   "id": "7aef61d7",
   "metadata": {},
   "outputs": [
    {
     "data": {
      "text/plain": [
       "Index(['China', 'Canada', 'France', 'United Kingdom', 'Australia',\n",
       "       'Netherlands', 'Denmark', 'Afghanistan', 'Saudi Arabia', 'Romania',\n",
       "       ...\n",
       "       'India', 'Guatemala', 'Guinea', 'Guyana', 'Haiti', 'Holy See',\n",
       "       'Honduras', 'Hungary', 'Iceland', 'Lesotho'],\n",
       "      dtype='object', length=187)"
      ]
     },
     "execution_count": 198,
     "metadata": {},
     "output_type": "execute_result"
    }
   ],
   "source": [
    "# Número de países registrados no dataframe = 187\n",
    "base2['Country/Region'].value_counts().index"
   ]
  },
  {
   "cell_type": "code",
   "execution_count": 199,
   "id": "c6f8ede4",
   "metadata": {},
   "outputs": [
    {
     "data": {
      "text/plain": [
       "False    187\n",
       "Name: Confirmed, dtype: int64"
      ]
     },
     "execution_count": 199,
     "metadata": {},
     "output_type": "execute_result"
    }
   ],
   "source": [
    "# Países em que o número de casos confirmados não é igual a zero\n",
    "(base2.groupby('Country/Region')['Confirmed'].sum() == 0).value_counts()"
   ]
  },
  {
   "cell_type": "markdown",
   "id": "c17357cf",
   "metadata": {},
   "source": [
    "False 187, indica que a condição imposta (casos confirmados igual a zero) é falsa nos 187 países. Logo, todos os países tiveram Covid em algum momento."
   ]
  },
  {
   "cell_type": "markdown",
   "id": "8c267381",
   "metadata": {},
   "source": [
    "#### 66 países tiveram mais casos de Covid do que a média"
   ]
  },
  {
   "cell_type": "code",
   "execution_count": 200,
   "id": "59d83df5",
   "metadata": {},
   "outputs": [
    {
     "data": {
      "text/plain": [
       "Country/Region\n",
       "Afghanistan               1650014\n",
       "Algeria                    447494\n",
       "Argentina                 4090997\n",
       "Armenia                   1212837\n",
       "Austria                    948533\n",
       "                          ...    \n",
       "US                      224298618\n",
       "Ukraine                   2878432\n",
       "United Arab Emirates      3357726\n",
       "United Kingdom           26501831\n",
       "Uzbekistan                 153447\n",
       "Name: Confirmed, Length: 66, dtype: int64"
      ]
     },
     "execution_count": 200,
     "metadata": {},
     "output_type": "execute_result"
    }
   ],
   "source": [
    "# Casos confirmados por país\n",
    "paises_maior_media = base2.loc[base2['Confirmed'] > base2['Confirmed'].mean(),['Country/Region','Confirmed']].groupby('Country/Region')['Confirmed'].sum()\n",
    "paises_maior_media"
   ]
  },
  {
   "cell_type": "code",
   "execution_count": 201,
   "id": "9d39ee49",
   "metadata": {},
   "outputs": [],
   "source": [
    "paises_maior_media = paises_maior_media.index\n",
    "paises_maior_media = np.array(paises_maior_media)"
   ]
  },
  {
   "cell_type": "code",
   "execution_count": 202,
   "id": "d9212029",
   "metadata": {},
   "outputs": [
    {
     "data": {
      "text/plain": [
       "array(['Afghanistan', 'Algeria', 'Argentina', 'Armenia', 'Austria',\n",
       "       'Azerbaijan', 'Bahrain', 'Bangladesh', 'Belarus', 'Belgium',\n",
       "       'Bolivia', 'Brazil', 'Cameroon', 'Canada', 'Chile', 'China',\n",
       "       'Colombia', 'Dominican Republic', 'Ecuador', 'Egypt', 'France',\n",
       "       'Germany', 'Ghana', 'Guatemala', 'Honduras', 'India', 'Indonesia',\n",
       "       'Iran', 'Iraq', 'Ireland', 'Israel', 'Italy', 'Japan',\n",
       "       'Kazakhstan', 'Kenya', 'Kuwait', 'Kyrgyzstan', 'Mexico', 'Moldova',\n",
       "       'Morocco', 'Nepal', 'Netherlands', 'Nigeria', 'Oman', 'Pakistan',\n",
       "       'Panama', 'Peru', 'Philippines', 'Poland', 'Portugal', 'Qatar',\n",
       "       'Romania', 'Russia', 'Saudi Arabia', 'Serbia', 'Singapore',\n",
       "       'South Africa', 'Spain', 'Sweden', 'Switzerland', 'Turkey', 'US',\n",
       "       'Ukraine', 'United Arab Emirates', 'United Kingdom', 'Uzbekistan'],\n",
       "      dtype=object)"
      ]
     },
     "execution_count": 202,
     "metadata": {},
     "output_type": "execute_result"
    }
   ],
   "source": [
    "# Lista com os países que possuem mais casos do que a média\n",
    "paises_maior_media"
   ]
  },
  {
   "cell_type": "markdown",
   "id": "2bcf5bb1",
   "metadata": {},
   "source": [
    "#### Os continentes desses 66 países são mostrados abaixo"
   ]
  },
  {
   "cell_type": "code",
   "execution_count": 203,
   "id": "b3d5fca1",
   "metadata": {},
   "outputs": [
    {
     "data": {
      "text/plain": [
       "WHO Region\n",
       "Americas                 399941715\n",
       "Europe                   239457789\n",
       "Eastern Mediterranean     72183389\n",
       "South-East Asia           54378725\n",
       "Western Pacific           22559580\n",
       "Africa                    16538602\n",
       "Name: Confirmed, dtype: int64"
      ]
     },
     "execution_count": 203,
     "metadata": {},
     "output_type": "execute_result"
    }
   ],
   "source": [
    "continentes_maior_media = base2.query(\"`Country/Region` in @paises_maior_media\").groupby('WHO Region')['Confirmed'].sum().sort_values(ascending=False)\n",
    "continentes_maior_media"
   ]
  }
 ],
 "metadata": {
  "kernelspec": {
   "display_name": "Python 3 (ipykernel)",
   "language": "python",
   "name": "python3"
  },
  "language_info": {
   "codemirror_mode": {
    "name": "ipython",
    "version": 3
   },
   "file_extension": ".py",
   "mimetype": "text/x-python",
   "name": "python",
   "nbconvert_exporter": "python",
   "pygments_lexer": "ipython3",
   "version": "3.9.13"
  }
 },
 "nbformat": 4,
 "nbformat_minor": 5
}
