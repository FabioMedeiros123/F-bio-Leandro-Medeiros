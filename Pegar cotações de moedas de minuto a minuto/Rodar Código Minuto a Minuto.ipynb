{
 "cells": [
  {
   "cell_type": "markdown",
   "id": "74a0b5a2",
   "metadata": {},
   "source": [
    "## Objetivo\n",
    "\n",
    "Fazer requisições na API awesomeapi a fim de conseguir as cotações atualizadas do Dólar, Euro e bitcoin. Após isso, fazer uma tabela com o auxílio da biblioteca pandas a fim de atualizar um arquivo excel (feito previamente) com essa tabela (através do pandas também)."
   ]
  },
  {
   "cell_type": "code",
   "execution_count": null,
   "id": "edfb0e68",
   "metadata": {},
   "outputs": [
    {
     "name": "stdout",
     "output_type": "stream",
     "text": [
      "Cotação Atualizada. 2022-04-01 08:01:20.557705\n",
      "Cotação Atualizada. 2022-04-01 08:02:20.849353\n",
      "Cotação Atualizada. 2022-04-01 08:03:21.443878\n",
      "Cotação Atualizada. 2022-04-01 08:04:21.705613\n",
      "Cotação Atualizada. 2022-04-01 08:05:21.960787\n",
      "Cotação Atualizada. 2022-04-01 08:06:22.546661\n",
      "Cotação Atualizada. 2022-04-01 08:07:25.020544\n",
      "Cotação Atualizada. 2022-04-01 08:08:25.552551\n",
      "Cotação Atualizada. 2022-04-01 08:09:25.816527\n",
      "Cotação Atualizada. 2022-04-01 08:10:26.076274\n",
      "Cotação Atualizada. 2022-04-01 08:11:26.350420\n",
      "Cotação Atualizada. 2022-04-01 08:12:26.627557\n",
      "Cotação Atualizada. 2022-04-01 08:13:28.230831\n",
      "Cotação Atualizada. 2022-04-01 08:14:28.468019\n",
      "Cotação Atualizada. 2022-04-01 08:15:28.717528\n",
      "Cotação Atualizada. 2022-04-01 08:16:28.970666\n",
      "Cotação Atualizada. 2022-04-01 08:17:29.193655\n",
      "Cotação Atualizada. 2022-04-01 08:18:29.727011\n",
      "Cotação Atualizada. 2022-04-01 08:19:30.016032\n",
      "Cotação Atualizada. 2022-04-01 08:20:30.208136\n"
     ]
    }
   ],
   "source": [
    "import requests\n",
    "import pandas as pd\n",
    "from datetime import datetime\n",
    "import time\n",
    "\n",
    "while True:\n",
    "    requisicao = requests.get(\"https://economia.awesomeapi.com.br/last/USD-BRL,EUR-BRL,BTC-BRL\")\n",
    "\n",
    "    requisicao_dic = requisicao.json()\n",
    "    cotacao_dolar = requisicao_dic[\"USDBRL\"][\"bid\"]\n",
    "    cotacao_euro = requisicao_dic[\"EURBRL\"][\"bid\"]\n",
    "    cotacao_btc = requisicao_dic[\"BTCBRL\"][\"bid\"]\n",
    "\n",
    "    tabela = pd.read_excel(\"Cotações.xlsx\")\n",
    "    tabela.loc[0, \"Cotação\"] = float(cotacao_dolar)\n",
    "    tabela.loc[1, \"Cotação\"] = float(cotacao_euro)\n",
    "    tabela.loc[2, \"Cotação\"] = float(cotacao_btc) * 1000\n",
    "    tabela.loc[0, \"Data Última Atualização\"] = datetime.now()\n",
    "\n",
    "    tabela.to_excel(\"Cotações.xlsx\", index=False)\n",
    "    print(f\"Cotação Atualizada. {datetime.now()}\")\n",
    "    \n",
    "    tempo_minuto = 1\n",
    "    time.sleep(tempo_minuto * 60)"
   ]
  },
  {
   "cell_type": "code",
   "execution_count": null,
   "id": "86d3d051",
   "metadata": {},
   "outputs": [],
   "source": []
  }
 ],
 "metadata": {
  "kernelspec": {
   "display_name": "Python 3 (ipykernel)",
   "language": "python",
   "name": "python3"
  },
  "language_info": {
   "codemirror_mode": {
    "name": "ipython",
    "version": 3
   },
   "file_extension": ".py",
   "mimetype": "text/x-python",
   "name": "python",
   "nbconvert_exporter": "python",
   "pygments_lexer": "ipython3",
   "version": "3.9.7"
  }
 },
 "nbformat": 4,
 "nbformat_minor": 5
}
