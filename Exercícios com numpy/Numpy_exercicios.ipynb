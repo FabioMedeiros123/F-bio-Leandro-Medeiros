{
 "cells": [
  {
   "cell_type": "markdown",
   "id": "0e221fbd",
   "metadata": {},
   "source": [
    "### Exercício 1\n",
    "\n",
    "Crie uma matriz bidimensional simples: que tal números ímpares contando para trás na primeira linha e números pares na segunda?\n",
    "Use as funções len(), numpy.shape()nessas matrizes. Como eles se relacionam? E para o atributo ndim das matrizes?"
   ]
  },
  {
   "cell_type": "code",
   "execution_count": 172,
   "id": "a4dfb1f4",
   "metadata": {},
   "outputs": [],
   "source": [
    "import numpy as np\n",
    "\n",
    "m = np.array([[9,7,5,3,1], [2,4,6,8,10]])"
   ]
  },
  {
   "cell_type": "code",
   "execution_count": 173,
   "id": "4fc70365",
   "metadata": {},
   "outputs": [
    {
     "name": "stdout",
     "output_type": "stream",
     "text": [
      "[[ 9  7  5  3  1]\n",
      " [ 2  4  6  8 10]]\n"
     ]
    }
   ],
   "source": [
    "print(m)"
   ]
  },
  {
   "cell_type": "code",
   "execution_count": 174,
   "id": "8bcddc77",
   "metadata": {},
   "outputs": [
    {
     "data": {
      "text/plain": [
       "2"
      ]
     },
     "execution_count": 174,
     "metadata": {},
     "output_type": "execute_result"
    }
   ],
   "source": [
    "len(m)"
   ]
  },
  {
   "cell_type": "code",
   "execution_count": 175,
   "id": "7c8c4725",
   "metadata": {},
   "outputs": [
    {
     "data": {
      "text/plain": [
       "(2, 5)"
      ]
     },
     "execution_count": 175,
     "metadata": {},
     "output_type": "execute_result"
    }
   ],
   "source": [
    "np.shape(m)"
   ]
  },
  {
   "cell_type": "code",
   "execution_count": 176,
   "id": "cc43a383",
   "metadata": {},
   "outputs": [
    {
     "data": {
      "text/plain": [
       "2"
      ]
     },
     "execution_count": 176,
     "metadata": {},
     "output_type": "execute_result"
    }
   ],
   "source": [
    "m.ndim"
   ]
  },
  {
   "cell_type": "markdown",
   "id": "31cb3487",
   "metadata": {},
   "source": [
    "### Exercício 2\n",
    "\n",
    "- Experimente com arange, linspace, ones, zeros, eye e diag.\n",
    "- Crie diferentes tipos de arrays com números aleatórios.\n",
    "- Tente definir a semente antes de criar uma matriz com valores aleatórios.\n",
    "- Veja a função np.empty. O que isso faz? Quando isso pode ser útil?"
   ]
  },
  {
   "cell_type": "code",
   "execution_count": 177,
   "id": "a5348119",
   "metadata": {},
   "outputs": [
    {
     "data": {
      "text/plain": [
       "array([ 1,  3,  5,  7,  9, 11, 13, 15, 17, 19])"
      ]
     },
     "execution_count": 177,
     "metadata": {},
     "output_type": "execute_result"
    }
   ],
   "source": [
    "a = np.arange(1,20,2)\n",
    "a"
   ]
  },
  {
   "cell_type": "code",
   "execution_count": 178,
   "id": "3fe4bce4",
   "metadata": {},
   "outputs": [
    {
     "data": {
      "text/plain": [
       "array([0.        , 0.11111111, 0.22222222, 0.33333333, 0.44444444,\n",
       "       0.55555556, 0.66666667, 0.77777778, 0.88888889, 1.        ])"
      ]
     },
     "execution_count": 178,
     "metadata": {},
     "output_type": "execute_result"
    }
   ],
   "source": [
    "l = np.linspace(0,1,10)\n",
    "l"
   ]
  },
  {
   "cell_type": "code",
   "execution_count": 179,
   "id": "66169d7a",
   "metadata": {},
   "outputs": [
    {
     "data": {
      "text/plain": [
       "array([[0., 0., 0.],\n",
       "       [0., 0., 0.],\n",
       "       [0., 0., 0.]])"
      ]
     },
     "execution_count": 179,
     "metadata": {},
     "output_type": "execute_result"
    }
   ],
   "source": [
    "z = np.zeros([3,3])\n",
    "z"
   ]
  },
  {
   "cell_type": "code",
   "execution_count": 180,
   "id": "5e6d737d",
   "metadata": {},
   "outputs": [
    {
     "data": {
      "text/plain": [
       "array([[1., 0., 0.],\n",
       "       [0., 1., 0.],\n",
       "       [0., 0., 1.]])"
      ]
     },
     "execution_count": 180,
     "metadata": {},
     "output_type": "execute_result"
    }
   ],
   "source": [
    "e = np.eye(3)\n",
    "e"
   ]
  },
  {
   "cell_type": "code",
   "execution_count": 181,
   "id": "e0155efa",
   "metadata": {},
   "outputs": [
    {
     "data": {
      "text/plain": [
       "array([[ 0,  0,  0,  0,  0],\n",
       "       [ 0,  4,  0,  0,  0],\n",
       "       [ 0,  0,  8,  0,  0],\n",
       "       [ 0,  0,  0, 12,  0],\n",
       "       [ 0,  0,  0,  0, 16]])"
      ]
     },
     "execution_count": 181,
     "metadata": {},
     "output_type": "execute_result"
    }
   ],
   "source": [
    "d = np.diag([i*2 for i in np.arange(10) if i%2 == 0])\n",
    "d"
   ]
  },
  {
   "cell_type": "code",
   "execution_count": 182,
   "id": "e4fd0cdd",
   "metadata": {},
   "outputs": [
    {
     "data": {
      "text/plain": [
       "array([0.71946897, 0.42310646, 0.9807642 , 0.68482974])"
      ]
     },
     "execution_count": 182,
     "metadata": {},
     "output_type": "execute_result"
    }
   ],
   "source": [
    "# Ao rodar várias vezes, os valores gerados mudam\n",
    "num = np.random.rand(4)\n",
    "num"
   ]
  },
  {
   "cell_type": "code",
   "execution_count": 183,
   "id": "45bbe2ec",
   "metadata": {},
   "outputs": [
    {
     "data": {
      "text/plain": [
       "array([0.69646919, 0.28613933, 0.22685145, 0.55131477])"
      ]
     },
     "execution_count": 183,
     "metadata": {},
     "output_type": "execute_result"
    }
   ],
   "source": [
    "# Ao usar a semente, os valores gerados permanecem os mesmos após várias execuções\n",
    "np.random.seed(123)\n",
    "num = np.random.rand(4)\n",
    "num"
   ]
  },
  {
   "cell_type": "code",
   "execution_count": 184,
   "id": "42234a79",
   "metadata": {},
   "outputs": [
    {
     "data": {
      "text/plain": [
       "array([[16843009, 16843009],\n",
       "       [16843009, 16843009]])"
      ]
     },
     "execution_count": 184,
     "metadata": {},
     "output_type": "execute_result"
    }
   ],
   "source": [
    "np.empty((2,2), dtype=int)"
   ]
  },
  {
   "cell_type": "markdown",
   "id": "0dee0e65",
   "metadata": {},
   "source": [
    "### Exercício 3\n",
    "- Trace algumas matrizes simples: um cosseno em função do tempo e uma matriz 2D.\n",
    "- Tente usar o graymapa de cores na matriz 2D."
   ]
  },
  {
   "cell_type": "code",
   "execution_count": 185,
   "id": "000e67d3",
   "metadata": {},
   "outputs": [],
   "source": [
    "x = np.linspace(0,20,200)"
   ]
  },
  {
   "cell_type": "code",
   "execution_count": 186,
   "id": "8b8d6314",
   "metadata": {},
   "outputs": [],
   "source": [
    "import math\n",
    "\n",
    "y = []\n",
    "\n",
    "for i in x:\n",
    "    y.append(math.cos(i))"
   ]
  },
  {
   "cell_type": "code",
   "execution_count": 187,
   "id": "41b78606",
   "metadata": {},
   "outputs": [],
   "source": [
    "y = np.array(y)"
   ]
  },
  {
   "cell_type": "code",
   "execution_count": 188,
   "id": "04a1354a",
   "metadata": {},
   "outputs": [],
   "source": [
    "matriz = np.array([x,y])"
   ]
  },
  {
   "cell_type": "code",
   "execution_count": 189,
   "id": "fbcc1815",
   "metadata": {},
   "outputs": [
    {
     "data": {
      "text/plain": [
       "<matplotlib.image.AxesImage at 0x1573db2f730>"
      ]
     },
     "execution_count": 189,
     "metadata": {},
     "output_type": "execute_result"
    },
    {
     "data": {
      "image/png": "[encoded data removed]",
      "text/plain": [
       "<Figure size 432x288 with 1 Axes>"
      ]
     },
     "metadata": {
      "needs_background": "light"
     },
     "output_type": "display_data"
    }
   ],
   "source": [
    "import matplotlib.pyplot as plt\n",
    "\n",
    "plt.imshow(matriz, cmap=plt.gray())"
   ]
  },
  {
   "cell_type": "markdown",
   "id": "38877e9a",
   "metadata": {},
   "source": [
    "### Exercício 4\n",
    "Experimente os diferentes tipos de fatiamento, usando start, end e step: começando de um linspace, tente obter números ímpares contando para trás e números pares contando para frente."
   ]
  },
  {
   "cell_type": "code",
   "execution_count": 190,
   "id": "2a3382bc",
   "metadata": {},
   "outputs": [
    {
     "data": {
      "text/plain": [
       "array([ 0,  1,  2,  3,  4,  5,  6,  7,  8,  9, 10])"
      ]
     },
     "execution_count": 190,
     "metadata": {},
     "output_type": "execute_result"
    }
   ],
   "source": [
    "a = np.linspace(0,10,11, dtype=int)\n",
    "a"
   ]
  },
  {
   "cell_type": "code",
   "execution_count": 191,
   "id": "0ee06737",
   "metadata": {},
   "outputs": [
    {
     "data": {
      "text/plain": [
       "array([9, 7, 5, 3, 1])"
      ]
     },
     "execution_count": 191,
     "metadata": {},
     "output_type": "execute_result"
    }
   ],
   "source": [
    "impares = a[-2::-2]\n",
    "impares"
   ]
  },
  {
   "cell_type": "code",
   "execution_count": 192,
   "id": "2ec761b4",
   "metadata": {},
   "outputs": [
    {
     "data": {
      "text/plain": [
       "array([ 0,  2,  4,  6,  8, 10])"
      ]
     },
     "execution_count": 192,
     "metadata": {},
     "output_type": "execute_result"
    }
   ],
   "source": [
    "pares = a[::2]\n",
    "pares"
   ]
  },
  {
   "cell_type": "markdown",
   "id": "df005bb3",
   "metadata": {},
   "source": [
    "### Exercício 5\n",
    "Crie as seguintes matrizes (com tipos de dados corretos):\n",
    "\n",
    "![alt text](matriz.png \"Title\")\n",
    "\n",
    "Par no curso: 3 declarações para cada\n",
    "\n",
    "Dica : Elementos de array individuais podem ser acessados ​​de forma semelhante a uma lista, por exemplo a[1]ou .a[1, 2]\n",
    "\n",
    "Dica : Examine a docstring para arquivos diag."
   ]
  },
  {
   "cell_type": "code",
   "execution_count": 193,
   "id": "b69e1e1e",
   "metadata": {},
   "outputs": [
    {
     "data": {
      "text/plain": [
       "array([[1., 1., 1., 1.],\n",
       "       [1., 1., 1., 1.],\n",
       "       [1., 1., 1., 1.],\n",
       "       [1., 1., 1., 1.]])"
      ]
     },
     "execution_count": 193,
     "metadata": {},
     "output_type": "execute_result"
    }
   ],
   "source": [
    "one_matrix = np.ones([4,4])\n",
    "one_matrix"
   ]
  },
  {
   "cell_type": "code",
   "execution_count": 194,
   "id": "bdc1d1e0",
   "metadata": {},
   "outputs": [
    {
     "data": {
      "text/plain": [
       "array([[1., 1., 1., 1.],\n",
       "       [1., 1., 1., 1.],\n",
       "       [1., 1., 1., 2.],\n",
       "       [1., 6., 1., 1.]])"
      ]
     },
     "execution_count": 194,
     "metadata": {},
     "output_type": "execute_result"
    }
   ],
   "source": [
    "one_matrix[2,3] = 2\n",
    "one_matrix[3,1] = 6\n",
    "one_matrix"
   ]
  },
  {
   "cell_type": "code",
   "execution_count": 197,
   "id": "2170abe5",
   "metadata": {},
   "outputs": [],
   "source": [
    "diagonal = np.diag([2,3,4,5,6], k=-1)\n",
    "diagonal = diagonal[:,0:5]"
   ]
  },
  {
   "cell_type": "code",
   "execution_count": 198,
   "id": "b4369ac7",
   "metadata": {},
   "outputs": [
    {
     "data": {
      "text/plain": [
       "array([[0, 0, 0, 0, 0],\n",
       "       [2, 0, 0, 0, 0],\n",
       "       [0, 3, 0, 0, 0],\n",
       "       [0, 0, 4, 0, 0],\n",
       "       [0, 0, 0, 5, 0],\n",
       "       [0, 0, 0, 0, 6]])"
      ]
     },
     "execution_count": 198,
     "metadata": {},
     "output_type": "execute_result"
    }
   ],
   "source": [
    "diagonal"
   ]
  },
  {
   "cell_type": "markdown",
   "id": "813e507e",
   "metadata": {},
   "source": [
    "### Exercício 6\n",
    "Percorra a documentação de np.tile e use esta função para construir a matriz:\n",
    "\n",
    "![alt text](tile.png \"Title\")"
   ]
  },
  {
   "cell_type": "code",
   "execution_count": 205,
   "id": "02f48d9d",
   "metadata": {},
   "outputs": [
    {
     "data": {
      "text/plain": [
       "array([4, 3, 4, 3, 4, 3])"
      ]
     },
     "execution_count": 205,
     "metadata": {},
     "output_type": "execute_result"
    }
   ],
   "source": [
    "v1 = np.array([4,3])\n",
    "v1 = np.tile(v1,3)\n",
    "v1"
   ]
  },
  {
   "cell_type": "code",
   "execution_count": 209,
   "id": "eb600720",
   "metadata": {},
   "outputs": [
    {
     "data": {
      "text/plain": [
       "array([2, 1, 2, 1, 2, 1])"
      ]
     },
     "execution_count": 209,
     "metadata": {},
     "output_type": "execute_result"
    }
   ],
   "source": [
    "v2 = np.array([2,1])\n",
    "v2 = np.tile(v2,3)\n",
    "v2"
   ]
  },
  {
   "cell_type": "code",
   "execution_count": 216,
   "id": "09cae9ab",
   "metadata": {
    "scrolled": true
   },
   "outputs": [
    {
     "data": {
      "text/plain": [
       "array([[4, 3, 4, 3, 4, 3],\n",
       "       [2, 1, 2, 1, 2, 1],\n",
       "       [4, 3, 4, 3, 4, 3],\n",
       "       [2, 1, 2, 1, 2, 1]])"
      ]
     },
     "execution_count": 216,
     "metadata": {},
     "output_type": "execute_result"
    }
   ],
   "source": [
    "matriz = np.array([v1,v2])\n",
    "matriz = np.tile(matriz,(2,1))\n",
    "matriz"
   ]
  },
  {
   "cell_type": "markdown",
   "id": "2f9430ac",
   "metadata": {},
   "source": [
    "### Exercício 7\n",
    "Exemplo resolvido: peneira de números primos. Calcular números primos em 0-99, com uma peneira."
   ]
  },
  {
   "cell_type": "code",
   "execution_count": 12,
   "id": "f45aae1c",
   "metadata": {},
   "outputs": [],
   "source": [
    "import numpy as np\n",
    "\n",
    "is_prime = np.ones((100,), dtype=bool)"
   ]
  },
  {
   "cell_type": "code",
   "execution_count": 13,
   "id": "e64e3323",
   "metadata": {
    "scrolled": true
   },
   "outputs": [
    {
     "data": {
      "text/plain": [
       "array([False, False,  True,  True,  True,  True,  True,  True,  True,\n",
       "        True,  True,  True,  True,  True,  True,  True,  True,  True,\n",
       "        True,  True,  True,  True,  True,  True,  True,  True,  True,\n",
       "        True,  True,  True,  True,  True,  True,  True,  True,  True,\n",
       "        True,  True,  True,  True,  True,  True,  True,  True,  True,\n",
       "        True,  True,  True,  True,  True,  True,  True,  True,  True,\n",
       "        True,  True,  True,  True,  True,  True,  True,  True,  True,\n",
       "        True,  True,  True,  True,  True,  True,  True,  True,  True,\n",
       "        True,  True,  True,  True,  True,  True,  True,  True,  True,\n",
       "        True,  True,  True,  True,  True,  True,  True,  True,  True,\n",
       "        True,  True,  True,  True,  True,  True,  True,  True,  True,\n",
       "        True])"
      ]
     },
     "execution_count": 13,
     "metadata": {},
     "output_type": "execute_result"
    }
   ],
   "source": [
    "is_prime[:2] = 0\n",
    "is_prime"
   ]
  },
  {
   "cell_type": "code",
   "execution_count": 14,
   "id": "9cc81ee6",
   "metadata": {},
   "outputs": [
    {
     "data": {
      "text/plain": [
       "9"
      ]
     },
     "execution_count": 14,
     "metadata": {},
     "output_type": "execute_result"
    }
   ],
   "source": [
    "N_max = int(np.sqrt(len(is_prime) - 1))\n",
    "N_max"
   ]
  },
  {
   "cell_type": "code",
   "execution_count": 15,
   "id": "e0772815",
   "metadata": {},
   "outputs": [],
   "source": [
    "for j in range(2, N_max + 1):\n",
    "    is_prime[2*j::j] = False"
   ]
  },
  {
   "cell_type": "code",
   "execution_count": 16,
   "id": "fd1be8b1",
   "metadata": {},
   "outputs": [
    {
     "data": {
      "text/plain": [
       "array([False, False,  True,  True, False,  True, False,  True, False,\n",
       "       False, False,  True, False,  True, False, False, False,  True,\n",
       "       False,  True, False, False, False,  True, False, False, False,\n",
       "       False, False,  True, False,  True, False, False, False, False,\n",
       "       False,  True, False, False, False,  True, False,  True, False,\n",
       "       False, False,  True, False, False, False, False, False,  True,\n",
       "       False, False, False, False, False,  True, False,  True, False,\n",
       "       False, False, False, False,  True, False, False, False,  True,\n",
       "       False,  True, False, False, False, False, False,  True, False,\n",
       "       False, False,  True, False, False, False, False, False,  True,\n",
       "       False, False, False, False, False, False, False,  True, False,\n",
       "       False])"
      ]
     },
     "execution_count": 16,
     "metadata": {},
     "output_type": "execute_result"
    }
   ],
   "source": [
    "is_prime"
   ]
  },
  {
   "cell_type": "markdown",
   "id": "082f8fde",
   "metadata": {},
   "source": [
    "### Exercício 8\n",
    "\n",
    "Novamente, reproduza a indexação sofisticada mostrada no diagrama acima.\n",
    "Use indexação sofisticada à esquerda e criação de matriz à direita para atribuir valores a uma matriz, por exemplo, definindo partes da matriz no diagrama acima como zero."
   ]
  },
  {
   "cell_type": "code",
   "execution_count": 19,
   "id": "b99953f4",
   "metadata": {},
   "outputs": [
    {
     "data": {
      "text/plain": [
       "array([ 1,  2,  3,  4,  5,  6,  7,  8,  9, 10])"
      ]
     },
     "execution_count": 19,
     "metadata": {},
     "output_type": "execute_result"
    }
   ],
   "source": [
    "mat = np.arange(1,11)\n",
    "mat"
   ]
  },
  {
   "cell_type": "code",
   "execution_count": 20,
   "id": "6a01f0b2",
   "metadata": {},
   "outputs": [
    {
     "data": {
      "text/plain": [
       "array([ 1,  2,  0,  4,  5,  0,  7,  8,  0, 10])"
      ]
     },
     "execution_count": 20,
     "metadata": {},
     "output_type": "execute_result"
    }
   ],
   "source": [
    "mat[mat%3 == 0] = 0\n",
    "mat"
   ]
  },
  {
   "cell_type": "code",
   "execution_count": 21,
   "id": "8198ab4e",
   "metadata": {},
   "outputs": [
    {
     "data": {
      "text/plain": [
       "array([ 0,  0,  0,  4,  5,  0,  7,  8,  0, 10])"
      ]
     },
     "execution_count": 21,
     "metadata": {},
     "output_type": "execute_result"
    }
   ],
   "source": [
    "mat[[0,1]] = 0\n",
    "mat"
   ]
  },
  {
   "cell_type": "markdown",
   "id": "7d525f69",
   "metadata": {},
   "source": [
    "### Exercício 9\n",
    "- Tente operações aritméticas simples de elemento a elemento: adicione elementos pares com elementos ímpares\n",
    "- Gerar:\n",
    "![alt text](operação1.png \"Title\")"
   ]
  },
  {
   "cell_type": "code",
   "execution_count": 37,
   "id": "dbcf0b90",
   "metadata": {},
   "outputs": [
    {
     "data": {
      "text/plain": [
       "array([5, 6, 7, 8])"
      ]
     },
     "execution_count": 37,
     "metadata": {},
     "output_type": "execute_result"
    }
   ],
   "source": [
    "a = np.array([0,1,2,3]) + 5\n",
    "a"
   ]
  },
  {
   "cell_type": "code",
   "execution_count": 38,
   "id": "a3628232",
   "metadata": {},
   "outputs": [
    {
     "data": {
      "text/plain": [
       "array([2, 2, 2, 2, 2])"
      ]
     },
     "execution_count": 38,
     "metadata": {},
     "output_type": "execute_result"
    }
   ],
   "source": [
    "a = np.tile(2,reps=5)\n",
    "a"
   ]
  },
  {
   "cell_type": "code",
   "execution_count": 39,
   "id": "dd135b8b",
   "metadata": {},
   "outputs": [
    {
     "data": {
      "text/plain": [
       "array([ 1,  2,  4,  8, 16])"
      ]
     },
     "execution_count": 39,
     "metadata": {},
     "output_type": "execute_result"
    }
   ],
   "source": [
    "for i in range(0,5):\n",
    "    a[i] = a[i] ** i \n",
    "    \n",
    "a"
   ]
  },
  {
   "cell_type": "markdown",
   "id": "b2fce7b2",
   "metadata": {},
   "source": [
    "### Exercício 10\n",
    "- Veja a ajuda para np.triu e np.tril."
   ]
  },
  {
   "cell_type": "code",
   "execution_count": 43,
   "id": "8025ed38",
   "metadata": {},
   "outputs": [
    {
     "data": {
      "text/plain": [
       "array([[ 0,  1,  2,  3,  4],\n",
       "       [ 0,  6,  7,  8,  9],\n",
       "       [ 0,  0, 12, 13, 14],\n",
       "       [ 0,  0,  0, 18, 19]])"
      ]
     },
     "execution_count": 43,
     "metadata": {},
     "output_type": "execute_result"
    }
   ],
   "source": [
    "a = np.triu(np.arange(0,20).reshape(4,5))\n",
    "a"
   ]
  },
  {
   "cell_type": "code",
   "execution_count": 44,
   "id": "6af38d9b",
   "metadata": {},
   "outputs": [
    {
     "data": {
      "text/plain": [
       "array([[ 0,  0,  0,  0,  0],\n",
       "       [ 5,  6,  0,  0,  0],\n",
       "       [10, 11, 12,  0,  0],\n",
       "       [15, 16, 17, 18,  0]])"
      ]
     },
     "execution_count": 44,
     "metadata": {},
     "output_type": "execute_result"
    }
   ],
   "source": [
    "b = np.tril(np.arange(0,20).reshape(4,5))\n",
    "b"
   ]
  },
  {
   "cell_type": "markdown",
   "id": "cca1400d",
   "metadata": {},
   "source": [
    "### Exercício 11\n",
    "Qual é a diferença entre sum e cumsum?"
   ]
  },
  {
   "cell_type": "code",
   "execution_count": 45,
   "id": "215dc945",
   "metadata": {},
   "outputs": [
    {
     "name": "stdout",
     "output_type": "stream",
     "text": [
      "10\n"
     ]
    }
   ],
   "source": [
    "a = np.array([1,2,3,4])\n",
    "print(a.sum())"
   ]
  },
  {
   "cell_type": "code",
   "execution_count": 46,
   "id": "61078626",
   "metadata": {},
   "outputs": [
    {
     "name": "stdout",
     "output_type": "stream",
     "text": [
      "[ 1  3  6 10]\n"
     ]
    }
   ],
   "source": [
    "print(a.cumsum())"
   ]
  }
 ],
 "metadata": {
  "kernelspec": {
   "display_name": "Python 3 (ipykernel)",
   "language": "python",
   "name": "python3"
  },
  "language_info": {
   "codemirror_mode": {
    "name": "ipython",
    "version": 3
   },
   "file_extension": ".py",
   "mimetype": "text/x-python",
   "name": "python",
   "nbconvert_exporter": "python",
   "pygments_lexer": "ipython3",
   "version": "3.9.7"
  }
 },
 "nbformat": 4,
 "nbformat_minor": 5
}
